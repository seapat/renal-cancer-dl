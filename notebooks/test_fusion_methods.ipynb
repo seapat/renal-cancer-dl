{
  "cells": [
    {
      "cell_type": "code",
      "execution_count": 115,
      "metadata": {
        "id": "K2wqhECb97Wz"
      },
      "outputs": [],
      "source": [
        "import torch\n",
        "a = torch.rand([3, 1000])\n",
        "# two times, no genomic data is available in the other case it is\n",
        "b = torch.cat([torch.zeros([2, 1000]), torch.rand([1, 1000])])"
      ]
    },
    {
      "cell_type": "code",
      "execution_count": 116,
      "metadata": {
        "colab": {
          "base_uri": "https://localhost:8080/"
        },
        "id": "m_onEhbAALah",
        "outputId": "b8fe9b70-740c-44d8-a22b-998fd80448dc"
      },
      "outputs": [
        {
          "data": {
            "text/plain": [
              "tensor([[[0.8343, 0.5954, 0.9805,  ..., 0.9251, 0.8948, 0.8371],\n",
              "         [0.8937, 0.6664, 0.8984,  ..., 0.2190, 0.1414, 0.8680],\n",
              "         [0.0081, 0.8910, 0.0708,  ..., 0.7521, 0.8833, 0.4126]],\n",
              "\n",
              "        [[0.0000, 0.0000, 0.0000,  ..., 0.0000, 0.0000, 0.0000],\n",
              "         [0.0000, 0.0000, 0.0000,  ..., 0.0000, 0.0000, 0.0000],\n",
              "         [1.0000, 1.0000, 1.0000,  ..., 1.0000, 1.0000, 1.0000]]])"
            ]
          },
          "execution_count": 116,
          "metadata": {},
          "output_type": "execute_result"
        }
      ],
      "source": [
        "multimodal_features = tuple()\n",
        "multimodal_features += (a,)\n",
        "multimodal_features += (b,)\n",
        "x = torch.stack(multimodal_features)\n",
        "x"
      ]
    },
    {
      "cell_type": "code",
      "execution_count": 117,
      "metadata": {
        "colab": {
          "base_uri": "https://localhost:8080/"
        },
        "id": "uwqaVjiS8sr8",
        "outputId": "71f85e34-c446-40e4-a929-7bfadc0071f2"
      },
      "outputs": [
        {
          "data": {
            "text/plain": [
              "tensor([[0.8343, 0.5954, 0.9805,  ..., 0.9251, 0.8948, 0.8371],\n",
              "        [0.8937, 0.6664, 0.8984,  ..., 0.2190, 0.1414, 0.8680],\n",
              "        [1.0081, 1.8910, 1.0708,  ..., 1.7521, 1.8833, 1.4126]])"
            ]
          },
          "execution_count": 117,
          "metadata": {},
          "output_type": "execute_result"
        }
      ],
      "source": [
        "x.sum(dim=0)"
      ]
    },
    {
      "cell_type": "code",
      "execution_count": 118,
      "metadata": {
        "colab": {
          "base_uri": "https://localhost:8080/"
        },
        "id": "W6QleGxI88A8",
        "outputId": "4a73fed2-09d7-4014-e7fe-c18820259dc2"
      },
      "outputs": [
        {
          "data": {
            "text/plain": [
              "tensor([[0.8343, 0.5954, 0.9805,  ..., 0.9251, 0.8948, 0.8371],\n",
              "        [0.8937, 0.6664, 0.8984,  ..., 0.2190, 0.1414, 0.8680],\n",
              "        [1.0000, 1.0000, 1.0000,  ..., 1.0000, 1.0000, 1.0000]])"
            ]
          },
          "execution_count": 118,
          "metadata": {},
          "output_type": "execute_result"
        }
      ],
      "source": [
        "x.max(dim=0)[0]"
      ]
    },
    {
      "cell_type": "code",
      "execution_count": 119,
      "metadata": {
        "colab": {
          "base_uri": "https://localhost:8080/"
        },
        "id": "L9lIjuTc9Khq",
        "outputId": "a6e5cd0f-182f-46e1-ff35-83f70a41b7dc"
      },
      "outputs": [
        {
          "data": {
            "text/plain": [
              "tensor([[0.0000, 0.0000, 0.0000,  ..., 0.0000, 0.0000, 0.0000],\n",
              "        [0.0000, 0.0000, 0.0000,  ..., 0.0000, 0.0000, 0.0000],\n",
              "        [0.0081, 0.8910, 0.0708,  ..., 0.7521, 0.8833, 0.4126]])"
            ]
          },
          "execution_count": 119,
          "metadata": {},
          "output_type": "execute_result"
        }
      ],
      "source": [
        "x.prod(dim=0)"
      ]
    },
    {
      "cell_type": "code",
      "execution_count": null,
      "metadata": {
        "id": "kL4RzO1dA46W"
      },
      "outputs": [],
      "source": [
        "from src.networks.embrace import EmbraceNet\n",
        "from src.networks.attention import Attention\n",
        "from src.networks.kronecker_fusion import kronecker_fusion\n"
      ]
    }
  ],
  "metadata": {
    "colab": {
      "provenance": []
    },
    "kernelspec": {
      "display_name": "Python 3",
      "name": "python3"
    },
    "language_info": {
      "name": "python"
    }
  },
  "nbformat": 4,
  "nbformat_minor": 0
}
