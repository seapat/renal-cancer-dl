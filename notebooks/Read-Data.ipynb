{
 "cells": [
  {
   "cell_type": "code",
   "execution_count": null,
   "metadata": {},
   "outputs": [],
   "source": [
    "import pandas as pd  # needs openpyxl\n",
    "import torch\n",
    "import torch.utils.data as data_utils\n"
   ]
  },
  {
   "attachments": {},
   "cell_type": "markdown",
   "metadata": {},
   "source": [
    "## Nanostring data: gene expression values and metadata"
   ]
  },
  {
   "cell_type": "code",
   "execution_count": null,
   "metadata": {},
   "outputs": [],
   "source": [
    "file_path = \"./NanoString/NanoString 360_TRPTINF_0235.xlsx\"\n",
    "with pd.ExcelFile(file_path) as xlsx:\n",
    "    sample_ids = pd.read_excel(xlsx, sheet_name=\"genes\", usecols=\"B\").applymap(\n",
    "        lambda x: x[0:3]\n",
    "    )\n",
    "\n",
    "    expressions = pd.read_excel(xlsx, sheet_name=\"genes\", usecols=\"C:ABX\").set_index(\n",
    "        sample_ids[\"Sample\"]\n",
    "    )\n",
    "    metadata = pd.read_excel(\n",
    "        xlsx,\n",
    "        sheet_name=\"SAMPLE INFORMATION\",\n",
    "        usecols=[\"Sample.ID\", \"Tumor.Size\", \"Group.Variable\", \"time\", \"grade\"],\n",
    "    ).set_index(\"Sample.ID\")\n"
   ]
  },
  {
   "cell_type": "code",
   "execution_count": null,
   "metadata": {},
   "outputs": [],
   "source": [
    "expressions.shape\n"
   ]
  },
  {
   "cell_type": "code",
   "execution_count": null,
   "metadata": {},
   "outputs": [],
   "source": [
    "metadata.shape\n"
   ]
  },
  {
   "cell_type": "code",
   "execution_count": null,
   "metadata": {},
   "outputs": [],
   "source": [
    "labels = {\"A\": 0, \"B\": 1}\n",
    "metadata[\"Group.BinaryVar\"] = metadata[\n",
    "    \"Group.Variable\"\n",
    "]  # Create a new column \"IrisType_num\"\n",
    "metadata[\"Group.BinaryVar\"] = [labels[item] for item in metadata[\"Group.BinaryVar\"]]\n",
    "metadata[\"Grade.Numerical\"] = metadata.grade.map(lambda x: x[1]).astype(int)\n",
    "metadata\n"
   ]
  },
  {
   "cell_type": "code",
   "execution_count": null,
   "metadata": {},
   "outputs": [],
   "source": [
    "nanostring = data_utils.TensorDataset(\n",
    "    torch.tensor(expressions.values),\n",
    "    torch.tensor(metadata[\"Tumor.Size\"].values),\n",
    "    torch.tensor(metadata[\"Group.BinaryVar\"].values),\n",
    "    torch.tensor(metadata[\"Grade.Numerical\"].values),\n",
    ")\n",
    "nanostring_loader = data_utils.DataLoader(nanostring, batch_size=10, shuffle=True)\n"
   ]
  },
  {
   "cell_type": "code",
   "execution_count": null,
   "metadata": {},
   "outputs": [],
   "source": [
    "class ExcelDataset(data_utils.Dataset):\n",
    "    def __init__(self, file_path, chunksize=1024):\n",
    "        self.file_path = file_path\n",
    "        self.chunksize = chunksize\n",
    "        self.chunk_iter = pd.read_excel(file_path, chunksize=chunksize)\n",
    "        self.chunk = None\n",
    "        self.row_iter = None\n",
    "\n",
    "    def __len__(self):\n",
    "        # TODO: Return the number of rows in the xlsx file\n",
    "        pass\n",
    "\n",
    "    def __getitem__(self, index):\n",
    "        if self.row_iter is None or index >= self.chunksize:\n",
    "            # Get the next chunk\n",
    "            try:\n",
    "                self.chunk = next(self.chunk_iter)\n",
    "            except StopIteration:\n",
    "                raise IndexError\n",
    "            self.row_iter = iter\n",
    "            (self.chunk.values)\n",
    "            index = index % self.chunksize\n",
    "        # Get the row at the specified index\n",
    "        row = next(self.row_iter)\n",
    "\n",
    "        # Convert the row to a PyTorch tensor\n",
    "        return torch.tensor(row)\n"
   ]
  },
  {
   "attachments": {},
   "cell_type": "markdown",
   "metadata": {},
   "source": [
    "## SVS Data"
   ]
  },
  {
   "cell_type": "code",
   "execution_count": 1,
   "metadata": {},
   "outputs": [],
   "source": [
    "import os\n",
    "\n",
    "dir_path: str = \"/data2/projects/DigiStrudMed_sklein/DigiStrucMed_Braesen/all_data/\"\n",
    "images: list[str] = []\n",
    "\n",
    "for file in os.listdir(dir_path):\n",
    "    filename = os.fsdecode(file)\n",
    "    if file.endswith(\".svs\"):\n",
    "        # print(os.fsencode(dir_path+filename))\n",
    "        images.append(os.fsencode(dir_path + filename))\n"
   ]
  },
  {
   "cell_type": "code",
   "execution_count": 8,
   "metadata": {},
   "outputs": [
    {
     "data": {
      "image/png": "[encoded data removed]",
      "text/plain": [
       "<Figure size 640x480 with 1 Axes>"
      ]
     },
     "metadata": {},
     "output_type": "display_data"
    }
   ],
   "source": [
    "import pyvips\n",
    "import matplotlib.pyplot as plt\n",
    "\n",
    "img = pyvips.Image.tiffload(dir_path + \"RCC-TA-142.019~B-Tissue.tif\", page=2)\n",
    "\n",
    "plt.imshow(img.numpy())\n",
    "plt.show()"
   ]
  },
  {
   "cell_type": "code",
   "execution_count": null,
   "metadata": {},
   "outputs": [],
   "source": [
    "import monai\n",
    "from monai.data import WSIReader\n",
    "from monai.transforms import LoadImaged, LoadImage, AsChannelFirst\n",
    "from monai.data.wsi_reader import WSIReader\n"
   ]
  },
  {
   "cell_type": "code",
   "execution_count": null,
   "metadata": {},
   "outputs": [],
   "source": [
    "transform = LoadImage(reader=WSIReader, backend=\"openslide\", level=3)\n",
    "image, _ = transform(images[0])\n",
    "print(f\"LoadImage : image shape = {image.shape}\")\n",
    "\n",
    "transformD = LoadImaged(keys=[\"image\"], reader=WSIReader, backend=\"openslide\", level=3)\n",
    "image = transformD({\"image\": images[0]})[\"image\"]\n",
    "print(f\"LoadImageD: image shape = {image.shape}\")\n"
   ]
  },
  {
   "cell_type": "code",
   "execution_count": null,
   "metadata": {},
   "outputs": [],
   "source": [
    "from cucim import CuImage\n",
    "import pprint\n",
    "from matplotlib import pyplot as plt\n",
    "import numpy as np\n",
    "import os\n",
    "\n",
    "# import cupy as cp\n",
    "\n",
    "\n",
    "def visualize(image, downsample=1):\n",
    "    dpi = 80.0 * downsample\n",
    "    height, width, _ = image.shape\n",
    "    plt.figure(figsize=(width / dpi, height / dpi))\n",
    "    plt.axis(\"off\")\n",
    "    plt.imshow(image)\n",
    "    return True\n",
    "\n",
    "\n",
    "plt.close(\"all\")\n",
    "\n",
    "pp = pprint.PrettyPrinter(indent=2, compact=True)\n",
    "\n",
    "img = CuImage(images[0])\n",
    "print(\"#\", images[0])\n",
    "metadata = img.metadata\n",
    "# pp.pprint(img.metadata)#.get('cucim'))\n",
    "# print(img.metadata.keys())\n",
    "\n",
    "# print(img.associated_images)\n",
    "\n",
    "# thumbnail_img = img.associated_image(\"thumbnail\")\n",
    "# visualize(np.asarray(thumbnail_img), 4)\n",
    "\n",
    "import os\n",
    "\n",
    "directory = os.fsencode(dir_path)\n",
    "\n",
    "for file in os.listdir(directory):\n",
    "    filename = os.fsdecode(file)\n",
    "    if filename.endswith(\".svs\"):\n",
    "        curr_img = CuImage(directory + file)\n",
    "        print(curr_img)\n",
    "        print(curr_img.metadata[\"cucim\"][\"resolutions\"])\n",
    "        visualize(np.asarray(curr_img.read_region(level=4)), 1)\n",
    "\n",
    "\n",
    "# curr_img = img.read_region(level=3)\n",
    "# print(curr_img.shape)\n",
    "# print(cp.asarray(curr_img))\n",
    "# print(type(curr_img))\n",
    "# visualize(np.asarray(curr_img), 1)\n",
    "\n",
    "# level_count = metadata[\"cucim\"][\"resolutions\"][\"level_count\"]\n",
    "# print(level_count)\n",
    "# for curr_lvl in range(1,level_count):\n",
    "#     curr_img = img.read_region(level=curr_lvl)\n",
    "#     done = visualize(np.asarray(curr_img), 1)\n"
   ]
  },
  {
   "cell_type": "code",
   "execution_count": null,
   "metadata": {},
   "outputs": [],
   "source": [
    "#%pip install openslide-python\n",
    "#!mamba install -n thesis -c conda-forge --yes openslide\n",
    "from openslide import OpenSlide\n"
   ]
  },
  {
   "attachments": {},
   "cell_type": "markdown",
   "metadata": {},
   "source": [
    "### Convert ome.tiff to svs"
   ]
  },
  {
   "cell_type": "code",
   "execution_count": null,
   "metadata": {},
   "outputs": [],
   "source": [
    "# try to convert from ome.tiff to svs\n",
    "# !pip install openslide-python\n",
    "import openslide\n",
    "\n",
    "# Open the OME-TIFF file\n",
    "ome_tiff = openslide.open_slide(\"ome_tiff_file.ome.tiff\")\n",
    "\n",
    "# Save the OME-TIFF file as an SVS file\n",
    "ome_tiff.save(\"svs_file.svs\")\n"
   ]
  },
  {
   "attachments": {},
   "cell_type": "markdown",
   "metadata": {},
   "source": [
    "### Read geojson and produce mask"
   ]
  },
  {
   "cell_type": "code",
   "execution_count": null,
   "metadata": {},
   "outputs": [
    {
     "name": "stderr",
     "output_type": "stream",
     "text": [
      "TIFFReadDirectory: Warning, Unknown field with tag 45744 (0xb2b0) encountered.\n",
      "TIFFReadDirectory: Warning, Unknown field with tag 45745 (0xb2b1) encountered.\n",
      "TIFFReadDirectory: Warning, Unknown field with tag 45746 (0xb2b2) encountered.\n",
      "TIFFReadDirectory: Warning, Unknown field with tag 46000 (0xb3b0) encountered.\n",
      "TIFFReadDirectoryCheckOrder: Warning, Invalid TIFF directory; tags are not sorted in ascending order.\n",
      "TIFFReadDirectory: Warning, Unknown field with tag 45744 (0xb2b0) encountered.\n",
      "TIFFReadDirectory: Warning, Unknown field with tag 45745 (0xb2b1) encountered.\n",
      "TIFFReadDirectory: Warning, Unknown field with tag 45746 (0xb2b2) encountered.\n",
      "TIFFReadDirectory: Warning, Unknown field with tag 46000 (0xb3b0) encountered.\n",
      "TIFFReadDirectoryCheckOrder: Warning, Invalid TIFF directory; tags are not sorted in ascending order.\n",
      "TIFFReadDirectory: Warning, Unknown field with tag 45744 (0xb2b0) encountered.\n",
      "TIFFReadDirectory: Warning, Unknown field with tag 45745 (0xb2b1) encountered.\n",
      "TIFFReadDirectory: Warning, Unknown field with tag 45746 (0xb2b2) encountered.\n",
      "TIFFReadDirectory: Warning, Unknown field with tag 46000 (0xb3b0) encountered.\n",
      "TIFFReadDirectoryCheckOrder: Warning, Invalid TIFF directory; tags are not sorted in ascending order.\n",
      "TIFFReadDirectory: Warning, Unknown field with tag 45744 (0xb2b0) encountered.\n",
      "TIFFReadDirectory: Warning, Unknown field with tag 45745 (0xb2b1) encountered.\n",
      "TIFFReadDirectory: Warning, Unknown field with tag 45746 (0xb2b2) encountered.\n",
      "TIFFReadDirectory: Warning, Unknown field with tag 46000 (0xb3b0) encountered.\n"
     ]
    }
   ],
   "source": [
    "# 1. READ JSON ARRAY\n",
    "import json\n",
    "\n",
    "# import Geojson # pip install geojson\n",
    "import matplotlib.pyplot as plt\n",
    "import numpy as np\n",
    "import openslide\n",
    "import rasterio\n",
    "import rasterio.features\n",
    "from rasterio.features import geometry_mask, rasterize\n",
    "from shapely.geometry import Point, Polygon\n",
    "from shapely.geometry import shape\n",
    "#from shapely.geometry.polygon import Polygon\n",
    "\n",
    "base_path: str = \"/home/sklein/Thesis/Scans-QuPathProjekt-RCC(1Case)-10062021/\"\n",
    "case: str = \"RCC-TA-011.001.023~M\"\n",
    "image = base_path + case + \".svs\"\n",
    "geojson_array: str = base_path + case + \".svs.json\"\n",
    "geojson_feat: str = base_path + case + \".svs-FeatColl.json\"\n",
    "\n",
    "input_file = open(geojson_array)\n",
    "data = json.load(input_file)\n",
    "\n",
    "# 2. FILTER ANNOTATIONS FOR TISSUE AND TUMOR\n",
    "tumor_types = [\n",
    "    # \"Tumor\",\n",
    "    \"Tumor_vital\",\n",
    "    \"diffuse tumor growth in soft tissue\",\n",
    "    \"Angioinvasion\",\n",
    "    \"Tumor_necrosis\",\n",
    "    \"Tumor_regression\",\n",
    "]\n",
    "tumor_annos = []\n",
    "tissue_annos = []\n",
    "for dict in data:\n",
    "    props = dict[\"properties\"]\n",
    "    if props[\"objectType\"] == \"annotation\":\n",
    "        if props[\"classification\"][\"name\"] in tumor_types:\n",
    "            tumor_annos.append(dict)\n",
    "        elif props[\"classification\"][\"name\"] in [\"Tissue\"]:\n",
    "            tissue_annos.append(dict)\n",
    "\n",
    "# 3. CONVERT TO SHAPELY SHAPES\n",
    "shapes = {\n",
    "    annotation[\"properties\"][\"classification\"][\"name\"]: shape(annotation[\"geometry\"])\n",
    "    for annotation in tumor_annos + tissue_annos\n",
    "}\n",
    "\n",
    "# 4. CONVERT TO MASK (TUMOR AND TISSUE)\n",
    "\n",
    "# Open the SVS file\n",
    "svs = openslide.open_slide(image)\n",
    "width, height = svs.dimensions\n",
    "# Create a blank mask with the same size as the SVS image\n",
    "mask = np.zeros((height, width), dtype=np.uint8)\n",
    "\n",
    "img = rasterize(shapes.values(), out_shape=(width, height))\n",
    "# plt.imshow(img)\n",
    "array = np.asarray(img)"
   ]
  },
  {
   "cell_type": "code",
   "execution_count": null,
   "metadata": {},
   "outputs": [
    {
     "data": {
      "text/plain": [
       "(array([4972622560, 4903836845]), array([0. , 0.5, 1. ]))"
      ]
     },
     "metadata": {},
     "output_type": "display_data"
    }
   ],
   "source": [
    "np.histogram(array, bins=2)"
   ]
  },
  {
   "cell_type": "code",
   "execution_count": null,
   "metadata": {},
   "outputs": [
    {
     "ename": "ValueError",
     "evalue": "object too deep for desired array",
     "output_type": "error",
     "traceback": [
      "\u001b[0;31m---------------------------------------------------------------------------\u001b[0m\n",
      "\u001b[0;31mValueError\u001b[0m                                Traceback (most recent call last)\n",
      "Cell \u001b[0;32mIn[15], line 7\u001b[0m\n",
      "\u001b[1;32m      1\u001b[0m \u001b[39mprint\u001b[39m(\u001b[39mf\u001b[39m\u001b[39m'''\u001b[39m\u001b[39m \u001b[39m\n",
      "\u001b[1;32m      2\u001b[0m \u001b[39m{\u001b[39;00marray\u001b[39m.\u001b[39mshape\u001b[39m}\u001b[39;00m\n",
      "\u001b[1;32m      3\u001b[0m \u001b[39m{\u001b[39;00mnp\u001b[39m.\u001b[39mmean(array)\u001b[39m}\u001b[39;00m\n",
      "\u001b[1;32m      4\u001b[0m \u001b[39m{\u001b[39;00mnp\u001b[39m.\u001b[39maverage(array)\u001b[39m}\u001b[39;00m\n",
      "\u001b[1;32m      5\u001b[0m \u001b[39m{\u001b[39;00mnp\u001b[39m.\u001b[39mptp(array)\u001b[39m}\u001b[39;00m\n",
      "\u001b[1;32m      6\u001b[0m \n",
      "\u001b[0;32m----> 7\u001b[0m \u001b[39m{\u001b[39;00mnp\u001b[39m.\u001b[39mbincount(array)\u001b[39m}\u001b[39;00m\n",
      "\u001b[1;32m      8\u001b[0m \n",
      "\u001b[1;32m      9\u001b[0m \u001b[39m'''\u001b[39m)\n",
      "\n",
      "File \u001b[0;32m<__array_function__ internals>:180\u001b[0m, in \u001b[0;36mbincount\u001b[0;34m(*args, **kwargs)\u001b[0m\n",
      "\n",
      "\u001b[0;31mValueError\u001b[0m: object too deep for desired array"
     ]
    }
   ],
   "source": [
    "print(f''' \n",
    "{array.shape}\n",
    "{np.mean(array)}\n",
    "{np.average(array)}\n",
    "{np.ptp(array)}\n",
    "''')"
   ]
  }
 ],
 "metadata": {
  "kernelspec": {
   "display_name": "sklein",
   "language": "python",
   "name": "python3"
  },
  "language_info": {
   "codemirror_mode": {
    "name": "ipython",
    "version": 3
   },
   "file_extension": ".py",
   "mimetype": "text/x-python",
   "name": "python",
   "nbconvert_exporter": "python",
   "pygments_lexer": "ipython3",
   "version": "3.10.9"
  },
  "orig_nbformat": 4,
  "vscode": {
   "interpreter": {
    "hash": "2c1613d379ab916e892bf2fd0f57f9eada89f57c8c198c48040e230985ec083e"
   }
  }
 },
 "nbformat": 4,
 "nbformat_minor": 2
}
