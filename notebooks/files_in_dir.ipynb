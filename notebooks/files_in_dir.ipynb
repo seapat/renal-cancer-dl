{
 "cells": [
  {
   "cell_type": "code",
   "execution_count": 1,
   "metadata": {},
   "outputs": [
    {
     "data": {
      "text/plain": [
       "4"
      ]
     },
     "execution_count": 1,
     "metadata": {},
     "output_type": "execute_result"
    }
   ],
   "source": [
    "import torch\n",
    "torch.cuda.device_count()"
   ]
  },
  {
   "cell_type": "code",
   "execution_count": 2,
   "metadata": {},
   "outputs": [],
   "source": [
    "from glob import glob\n",
    "import os\n",
    "from typing import Sequence\n",
    "import cucim\n",
    "\n",
    "scan_path = \"/data2/projects/DigiStrudMed_sklein/DigiStrucMed_Bräsen/all_data\"\n",
    "image_paths: list = sorted(glob(os.path.join(scan_path , \"*.svs\")))\n",
    "image_paths = [os.path.basename(i).removesuffix(\".svs\") for i in image_paths]\n",
    "images = [i.split(\"-\", maxsplit=2)[-1] for i in image_paths]\n",
    "images = [(i[:3], i[4:7], i[7:]) for i in images]\n",
    "\n"
   ]
  },
  {
   "cell_type": "code",
   "execution_count": 3,
   "metadata": {},
   "outputs": [
    {
     "ename": "FileNotFoundError",
     "evalue": "[Errno 2] No such file or directory: '/data2/projects/DigiStrudMed_sklein/DigiStrucMed_Bräsen/RCC-Masterfile_20211124.xlsx'",
     "output_type": "error",
     "traceback": [
      "\u001b[0;31m---------------------------------------------------------------------------\u001b[0m",
      "\u001b[0;31mFileNotFoundError\u001b[0m                         Traceback (most recent call last)",
      "Cell \u001b[0;32mIn[3], line 5\u001b[0m\n\u001b[1;32m      1\u001b[0m \u001b[39mimport\u001b[39;00m \u001b[39mpandas\u001b[39;00m \u001b[39mas\u001b[39;00m \u001b[39mpd\u001b[39;00m\n\u001b[1;32m      3\u001b[0m path \u001b[39m=\u001b[39m \u001b[39m\"\u001b[39m\u001b[39m/data2/projects/DigiStrudMed_sklein/DigiStrucMed_Bräsen/RCC-Masterfile_20211124.xlsx\u001b[39m\u001b[39m\"\u001b[39m\n\u001b[0;32m----> 5\u001b[0m raw_data \u001b[39m=\u001b[39m pd\u001b[39m.\u001b[39;49mread_excel(\n\u001b[1;32m      6\u001b[0m     path, \n\u001b[1;32m      7\u001b[0m     sheet_name\u001b[39m=\u001b[39;49m\u001b[39m\"\u001b[39;49m\u001b[39mProben RCC, PD-L1, Metastas (2\u001b[39;49m\u001b[39m\"\u001b[39;49m, \n\u001b[1;32m      8\u001b[0m     header\u001b[39m=\u001b[39;49m\u001b[39m0\u001b[39;49m, \n\u001b[1;32m      9\u001b[0m     index_col\u001b[39m=\u001b[39;49m\u001b[39m0\u001b[39;49m,\n\u001b[1;32m     10\u001b[0m     nrows\u001b[39m=\u001b[39;49m\u001b[39m178\u001b[39;49m,\n\u001b[1;32m     11\u001b[0m     usecols\u001b[39m=\u001b[39;49m\u001b[39m\"\u001b[39;49m\u001b[39mA,N,O,GQ,GR,GS,K\u001b[39;49m\u001b[39m\"\u001b[39;49m\n\u001b[1;32m     12\u001b[0m     )\n\u001b[1;32m     13\u001b[0m raw_data \u001b[39m=\u001b[39m raw_data[raw_data\u001b[39m.\u001b[39mindex\u001b[39m.\u001b[39mnotnull()]\n\u001b[1;32m     14\u001b[0m raw_data\u001b[39m.\u001b[39mindex \u001b[39m=\u001b[39m [case[\u001b[39m-\u001b[39m\u001b[39m3\u001b[39m:] \u001b[39mfor\u001b[39;00m case \u001b[39min\u001b[39;00m raw_data\u001b[39m.\u001b[39mindex\u001b[39m.\u001b[39mastype(\u001b[39mstr\u001b[39m)]\n",
      "File \u001b[0;32m~/mambaforge/envs/sklein/lib/python3.10/site-packages/pandas/util/_decorators.py:211\u001b[0m, in \u001b[0;36mdeprecate_kwarg.<locals>._deprecate_kwarg.<locals>.wrapper\u001b[0;34m(*args, **kwargs)\u001b[0m\n\u001b[1;32m    209\u001b[0m     \u001b[39melse\u001b[39;00m:\n\u001b[1;32m    210\u001b[0m         kwargs[new_arg_name] \u001b[39m=\u001b[39m new_arg_value\n\u001b[0;32m--> 211\u001b[0m \u001b[39mreturn\u001b[39;00m func(\u001b[39m*\u001b[39;49margs, \u001b[39m*\u001b[39;49m\u001b[39m*\u001b[39;49mkwargs)\n",
      "File \u001b[0;32m~/mambaforge/envs/sklein/lib/python3.10/site-packages/pandas/util/_decorators.py:331\u001b[0m, in \u001b[0;36mdeprecate_nonkeyword_arguments.<locals>.decorate.<locals>.wrapper\u001b[0;34m(*args, **kwargs)\u001b[0m\n\u001b[1;32m    325\u001b[0m \u001b[39mif\u001b[39;00m \u001b[39mlen\u001b[39m(args) \u001b[39m>\u001b[39m num_allow_args:\n\u001b[1;32m    326\u001b[0m     warnings\u001b[39m.\u001b[39mwarn(\n\u001b[1;32m    327\u001b[0m         msg\u001b[39m.\u001b[39mformat(arguments\u001b[39m=\u001b[39m_format_argument_list(allow_args)),\n\u001b[1;32m    328\u001b[0m         \u001b[39mFutureWarning\u001b[39;00m,\n\u001b[1;32m    329\u001b[0m         stacklevel\u001b[39m=\u001b[39mfind_stack_level(),\n\u001b[1;32m    330\u001b[0m     )\n\u001b[0;32m--> 331\u001b[0m \u001b[39mreturn\u001b[39;00m func(\u001b[39m*\u001b[39;49margs, \u001b[39m*\u001b[39;49m\u001b[39m*\u001b[39;49mkwargs)\n",
      "File \u001b[0;32m~/mambaforge/envs/sklein/lib/python3.10/site-packages/pandas/io/excel/_base.py:482\u001b[0m, in \u001b[0;36mread_excel\u001b[0;34m(io, sheet_name, header, names, index_col, usecols, squeeze, dtype, engine, converters, true_values, false_values, skiprows, nrows, na_values, keep_default_na, na_filter, verbose, parse_dates, date_parser, thousands, decimal, comment, skipfooter, convert_float, mangle_dupe_cols, storage_options)\u001b[0m\n\u001b[1;32m    480\u001b[0m \u001b[39mif\u001b[39;00m \u001b[39mnot\u001b[39;00m \u001b[39misinstance\u001b[39m(io, ExcelFile):\n\u001b[1;32m    481\u001b[0m     should_close \u001b[39m=\u001b[39m \u001b[39mTrue\u001b[39;00m\n\u001b[0;32m--> 482\u001b[0m     io \u001b[39m=\u001b[39m ExcelFile(io, storage_options\u001b[39m=\u001b[39;49mstorage_options, engine\u001b[39m=\u001b[39;49mengine)\n\u001b[1;32m    483\u001b[0m \u001b[39melif\u001b[39;00m engine \u001b[39mand\u001b[39;00m engine \u001b[39m!=\u001b[39m io\u001b[39m.\u001b[39mengine:\n\u001b[1;32m    484\u001b[0m     \u001b[39mraise\u001b[39;00m \u001b[39mValueError\u001b[39;00m(\n\u001b[1;32m    485\u001b[0m         \u001b[39m\"\u001b[39m\u001b[39mEngine should not be specified when passing \u001b[39m\u001b[39m\"\u001b[39m\n\u001b[1;32m    486\u001b[0m         \u001b[39m\"\u001b[39m\u001b[39man ExcelFile - ExcelFile already has the engine set\u001b[39m\u001b[39m\"\u001b[39m\n\u001b[1;32m    487\u001b[0m     )\n",
      "File \u001b[0;32m~/mambaforge/envs/sklein/lib/python3.10/site-packages/pandas/io/excel/_base.py:1652\u001b[0m, in \u001b[0;36mExcelFile.__init__\u001b[0;34m(self, path_or_buffer, engine, storage_options)\u001b[0m\n\u001b[1;32m   1650\u001b[0m     ext \u001b[39m=\u001b[39m \u001b[39m\"\u001b[39m\u001b[39mxls\u001b[39m\u001b[39m\"\u001b[39m\n\u001b[1;32m   1651\u001b[0m \u001b[39melse\u001b[39;00m:\n\u001b[0;32m-> 1652\u001b[0m     ext \u001b[39m=\u001b[39m inspect_excel_format(\n\u001b[1;32m   1653\u001b[0m         content_or_path\u001b[39m=\u001b[39;49mpath_or_buffer, storage_options\u001b[39m=\u001b[39;49mstorage_options\n\u001b[1;32m   1654\u001b[0m     )\n\u001b[1;32m   1655\u001b[0m     \u001b[39mif\u001b[39;00m ext \u001b[39mis\u001b[39;00m \u001b[39mNone\u001b[39;00m:\n\u001b[1;32m   1656\u001b[0m         \u001b[39mraise\u001b[39;00m \u001b[39mValueError\u001b[39;00m(\n\u001b[1;32m   1657\u001b[0m             \u001b[39m\"\u001b[39m\u001b[39mExcel file format cannot be determined, you must specify \u001b[39m\u001b[39m\"\u001b[39m\n\u001b[1;32m   1658\u001b[0m             \u001b[39m\"\u001b[39m\u001b[39man engine manually.\u001b[39m\u001b[39m\"\u001b[39m\n\u001b[1;32m   1659\u001b[0m         )\n",
      "File \u001b[0;32m~/mambaforge/envs/sklein/lib/python3.10/site-packages/pandas/io/excel/_base.py:1525\u001b[0m, in \u001b[0;36minspect_excel_format\u001b[0;34m(content_or_path, storage_options)\u001b[0m\n\u001b[1;32m   1522\u001b[0m \u001b[39mif\u001b[39;00m \u001b[39misinstance\u001b[39m(content_or_path, \u001b[39mbytes\u001b[39m):\n\u001b[1;32m   1523\u001b[0m     content_or_path \u001b[39m=\u001b[39m BytesIO(content_or_path)\n\u001b[0;32m-> 1525\u001b[0m \u001b[39mwith\u001b[39;00m get_handle(\n\u001b[1;32m   1526\u001b[0m     content_or_path, \u001b[39m\"\u001b[39;49m\u001b[39mrb\u001b[39;49m\u001b[39m\"\u001b[39;49m, storage_options\u001b[39m=\u001b[39;49mstorage_options, is_text\u001b[39m=\u001b[39;49m\u001b[39mFalse\u001b[39;49;00m\n\u001b[1;32m   1527\u001b[0m ) \u001b[39mas\u001b[39;00m handle:\n\u001b[1;32m   1528\u001b[0m     stream \u001b[39m=\u001b[39m handle\u001b[39m.\u001b[39mhandle\n\u001b[1;32m   1529\u001b[0m     stream\u001b[39m.\u001b[39mseek(\u001b[39m0\u001b[39m)\n",
      "File \u001b[0;32m~/mambaforge/envs/sklein/lib/python3.10/site-packages/pandas/io/common.py:865\u001b[0m, in \u001b[0;36mget_handle\u001b[0;34m(path_or_buf, mode, encoding, compression, memory_map, is_text, errors, storage_options)\u001b[0m\n\u001b[1;32m    856\u001b[0m         handle \u001b[39m=\u001b[39m \u001b[39mopen\u001b[39m(\n\u001b[1;32m    857\u001b[0m             handle,\n\u001b[1;32m    858\u001b[0m             ioargs\u001b[39m.\u001b[39mmode,\n\u001b[0;32m   (...)\u001b[0m\n\u001b[1;32m    861\u001b[0m             newline\u001b[39m=\u001b[39m\u001b[39m\"\u001b[39m\u001b[39m\"\u001b[39m,\n\u001b[1;32m    862\u001b[0m         )\n\u001b[1;32m    863\u001b[0m     \u001b[39melse\u001b[39;00m:\n\u001b[1;32m    864\u001b[0m         \u001b[39m# Binary mode\u001b[39;00m\n\u001b[0;32m--> 865\u001b[0m         handle \u001b[39m=\u001b[39m \u001b[39mopen\u001b[39;49m(handle, ioargs\u001b[39m.\u001b[39;49mmode)\n\u001b[1;32m    866\u001b[0m     handles\u001b[39m.\u001b[39mappend(handle)\n\u001b[1;32m    868\u001b[0m \u001b[39m# Convert BytesIO or file objects passed with an encoding\u001b[39;00m\n",
      "\u001b[0;31mFileNotFoundError\u001b[0m: [Errno 2] No such file or directory: '/data2/projects/DigiStrudMed_sklein/DigiStrucMed_Bräsen/RCC-Masterfile_20211124.xlsx'"
     ]
    }
   ],
   "source": [
    "import pandas as pd\n",
    "\n",
    "path = \"/data2/projects/DigiStrudMed_sklein/DigiStrucMed_Bräsen/RCC-Masterfile_20211124.xlsx\"\n",
    "\n",
    "raw_data = pd.read_excel(\n",
    "    path, \n",
    "    sheet_name=\"Proben RCC, PD-L1, Metastas (2\", \n",
    "    header=0, \n",
    "    index_col=0,\n",
    "    nrows=178,\n",
    "    usecols=\"A,N,O,GQ,GR,GS,K\"\n",
    "    )\n",
    "raw_data = raw_data[raw_data.index.notnull()]\n",
    "raw_data.index = [case[-3:] for case in raw_data.index.astype(str)]"
   ]
  },
  {
   "cell_type": "code",
   "execution_count": null,
   "metadata": {},
   "outputs": [],
   "source": [
    "result = {}\n",
    "for case, stain, idk in images:\n",
    "  if case in result.keys():\n",
    "      if stain in result[case]:\n",
    "        result[case][stain].append(idk)\n",
    "      else:\n",
    "        result[case][stain] = [idk]\n",
    "  else:\n",
    "    result[case] = {stain: [idk]}"
   ]
  },
  {
   "attachments": {},
   "cell_type": "markdown",
   "metadata": {},
   "source": [
    "### Comparison of images and clinical data"
   ]
  },
  {
   "attachments": {},
   "cell_type": "markdown",
   "metadata": {},
   "source": [
    "#### Amount of patients"
   ]
  },
  {
   "cell_type": "code",
   "execution_count": null,
   "metadata": {},
   "outputs": [
    {
     "data": {
      "text/plain": [
       "194"
      ]
     },
     "execution_count": 6,
     "metadata": {},
     "output_type": "execute_result"
    }
   ],
   "source": [
    "len(result.keys())"
   ]
  },
  {
   "cell_type": "code",
   "execution_count": null,
   "metadata": {},
   "outputs": [
    {
     "data": {
      "text/plain": [
       "176"
      ]
     },
     "execution_count": 7,
     "metadata": {},
     "output_type": "execute_result"
    }
   ],
   "source": [
    "len(raw_data.index)"
   ]
  },
  {
   "attachments": {},
   "cell_type": "markdown",
   "metadata": {},
   "source": [
    "### Tabular data missing"
   ]
  },
  {
   "cell_type": "code",
   "execution_count": null,
   "metadata": {},
   "outputs": [
    {
     "data": {
      "text/plain": [
       "{'007',\n",
       " '014',\n",
       " '024',\n",
       " '029',\n",
       " '035',\n",
       " '036',\n",
       " '041',\n",
       " '051',\n",
       " '065',\n",
       " '091',\n",
       " '097',\n",
       " '100',\n",
       " '102',\n",
       " '104',\n",
       " '153',\n",
       " '180',\n",
       " '182',\n",
       " '183'}"
      ]
     },
     "execution_count": 8,
     "metadata": {},
     "output_type": "execute_result"
    }
   ],
   "source": [
    "set(result.keys()).difference(set(raw_data.index))"
   ]
  },
  {
   "attachments": {},
   "cell_type": "markdown",
   "metadata": {},
   "source": [
    "### case IDs"
   ]
  },
  {
   "cell_type": "code",
   "execution_count": null,
   "metadata": {},
   "outputs": [
    {
     "data": {
      "text/plain": [
       "dict_keys(['001', '002', '003', '004', '005', '006', '007', '008', '009', '010', '011', '012', '013', '014', '015', '016', '017', '018', '019', '020', '021', '022', '023', '024', '025', '026', '027', '028', '029', '030', '031', '032', '033', '034', '035', '036', '037', '038', '039', '040', '041', '042', '043', '044', '045', '046', '047', '048', '049', '050', '051', '052', '053', '054', '055', '056', '057', '058', '059', '061', '062', '063', '064', '065', '066', '067', '068', '069', '070', '071', '072', '073', '074', '075', '076', '077', '078', '079', '080', '081', '082', '083', '084', '085', '086', '087', '088', '089', '090', '091', '092', '093', '094', '095', '096', '097', '098', '099', '100', '101', '102', '103', '104', '105', '106', '107', '108', '109', '110', '111', '112', '113', '114', '115', '116', '117', '118', '119', '120', '121', '122', '123', '124', '125', '126', '127', '128', '129', '130', '131', '132', '133', '134', '135', '136', '137', '138', '139', '140', '141', '142', '143', '144', '145', '146', '147', '148', '149', '150', '151', '152', '153', '154', '155', '156', '157', '158', '159', '160', '161', '162', '163', '164', '165', '166', '167', '168', '169', '170', '171', '172', '173', '174', '175', '176', '177', '178', '179', '180', '181', '182', '183', '184', '185', '186', '187', '188', '189', '190', '191', '192', '193', '194', '196'])"
      ]
     },
     "execution_count": 9,
     "metadata": {},
     "output_type": "execute_result"
    }
   ],
   "source": [
    "result.keys()"
   ]
  },
  {
   "attachments": {},
   "cell_type": "markdown",
   "metadata": {},
   "source": [
    "### occurring stains"
   ]
  },
  {
   "cell_type": "code",
   "execution_count": null,
   "metadata": {},
   "outputs": [],
   "source": [
    "all_stains = [item for sublist in [case.keys() for case in result.values()] for item in sublist]"
   ]
  },
  {
   "cell_type": "code",
   "execution_count": null,
   "metadata": {},
   "outputs": [
    {
     "name": "stdout",
     "output_type": "stream",
     "text": [
      "stain: count - {'001': 188, '016': 191, '019': 183, '041': 176, '042': 182}\n"
     ]
    }
   ],
   "source": [
    "from collections import Counter\n",
    "\n",
    "print(f\"stain: count - {dict(Counter(all_stains))}\")"
   ]
  },
  {
   "attachments": {},
   "cell_type": "markdown",
   "metadata": {},
   "source": [
    "### Number of caes with less than X stains"
   ]
  },
  {
   "cell_type": "code",
   "execution_count": null,
   "metadata": {},
   "outputs": [
    {
     "name": "stdout",
     "output_type": "stream",
     "text": [
      "Number of Patients with less than 6 stains: 194\n",
      "Number of Patients with less than 5 stains: 18\n",
      "Number of Patients with less than 4 stains: 18\n",
      "Number of Patients with less than 3 stains: 10\n",
      "Number of Patients with less than 2 stains: 4\n"
     ]
    }
   ],
   "source": [
    "for i in range(6, 1, -1):\n",
    "    print(f\"Number of Patients with less than {i} stains: {len([key for key, value in result.items() if len(value) < i])}\")\n"
   ]
  },
  {
   "attachments": {},
   "cell_type": "markdown",
   "metadata": {},
   "source": [
    "### Cases where a stain has more than one file"
   ]
  },
  {
   "cell_type": "code",
   "execution_count": null,
   "metadata": {},
   "outputs": [
    {
     "data": {
      "text/plain": [
       "[('019', ['~B', '~E']),\n",
       " ('019', ['~B', '~E']),\n",
       " ('019', ['~B', '~E']),\n",
       " ('019', ['~B', '~E']),\n",
       " ('019', ['~B', '~E']),\n",
       " ('016', ['~E', '~H']),\n",
       " ('019', ['~B', '~E']),\n",
       " ('019', ['~B', '~E']),\n",
       " ('019', ['~B', '~E']),\n",
       " ('019', ['~B', '~E']),\n",
       " ('019', ['~B', '~H']),\n",
       " ('016', ['~B', '~E']),\n",
       " ('016', ['flipped', '~B']),\n",
       " ('019', ['flipped', '~B']),\n",
       " ('041', ['neu', '~C']),\n",
       " ('042', ['flipped', '~B']),\n",
       " ('016', ['~E', '~H']),\n",
       " ('019', ['~B', '~K']),\n",
       " ('019', ['~AC', '~Q']),\n",
       " ('019', ['~E', '~H', '~K']),\n",
       " ('041', ['~C', '~D_Hemaneu']),\n",
       " ('016', ['~B', '~E']),\n",
       " ('019', ['~B', '~E']),\n",
       " ('001', ['_2nd~C', '~B']),\n",
       " ('001', ['_2nd~F', '~B'])]"
      ]
     },
     "execution_count": 13,
     "metadata": {},
     "output_type": "execute_result"
    }
   ],
   "source": [
    "[(key, value) for case in result.values() for key, value in case.items() if len(value) > 1]"
   ]
  },
  {
   "attachments": {},
   "cell_type": "markdown",
   "metadata": {},
   "source": [
    "## Findings\n",
    "\n",
    "- 019neu\n",
    "    - This dir contains files that also exit in the other 019 dir. Probably use the new ones (I assume the old ones were incorrect and had to be re-done) \n",
    "- Missinng Stains\n",
    "    - Certain Patients lack stains found in others. \n",
    "- Missing Patients\n",
    "    - The tabular Data lacks Patients that have images available, ignore those? \n",
    "- Stains codes\n",
    "    - Hämalaun (023) is missing, but instead we have 041 now. What to do? \n",
    "- \"redundant\" files\n",
    "    - Some Cases/patients have multiple files (2 at most) with differing suffix. There seems to be two cases \n",
    "- tilde + Capital letter\n",
    "    - I think certain backup tools attach `~` characters, but why is only a subset duplicated. The different Capital letters are `B`, `E`, `H`  \n",
    "- divergence from naming scheme\n",
    "    - Some files differ by having special suffixes. I am not sure what those mean. `neu`, `_2nd~`, `*_Hemanu`, `flipped` "
   ]
  },
  {
   "cell_type": "markdown",
   "metadata": {},
   "source": []
  },
  {
   "attachments": {},
   "cell_type": "markdown",
   "metadata": {},
   "source": [
    "## Check qupath project files\n",
    "\n",
    "These files specify which svs files are actually needed"
   ]
  },
  {
   "cell_type": "code",
   "execution_count": 7,
   "metadata": {},
   "outputs": [],
   "source": [
    "scan_path = '/data2/projects/DigiStrudMed_sklein/DigiStrucMed_Braesen/all_data'"
   ]
  },
  {
   "cell_type": "code",
   "execution_count": 8,
   "metadata": {},
   "outputs": [
    {
     "data": {
      "text/plain": [
       "['../QuPathProjects/RCC-MaskenБbertragung CD4_FoxP3 N. Vasileiadis - Kopie/project.qpproj',\n",
       " '../QuPathProjects/RCC-MaskenБbertragung CD4_FoxP3 N. Vasileiadis - Kopie/project.backup.qpproj',\n",
       " '../QuPathProjects/hand-editted/RCC-Maskenubertragung-CD8_CD20-N.Vasileiadis/project.qpproj',\n",
       " '../QuPathProjects/hand-editted/RCC-Maskenubertragung-CD4_FoxP3-N.Vasileiadis/project.qpproj',\n",
       " '../QuPathProjects/hand-editted/RCC-Maskenubertragung-CD204-N.Vasileiadis/project.qpproj',\n",
       " '../QuPathProjects/hand-editted/RCC-Maskenubertragung-CD68-N.Vasileiadis/project.qpproj',\n",
       " '../QuPathProjects/RCC-MaskenБbertragung CD68 N. Vasileiadis - Kopie/project (2).backup.qpproj',\n",
       " '../QuPathProjects/RCC-MaskenБbertragung CD68 N. Vasileiadis - Kopie/project.qpproj',\n",
       " '../QuPathProjects/RCC-MaskenБbertragung CD68 N. Vasileiadis - Kopie/project.backup.qpproj',\n",
       " '../QuPathProjects/RCC-MaskenБbertragung CD8_CD20 N. Vasileiadis - Kopie/project.qpproj',\n",
       " '../QuPathProjects/RCC-MaskenБbertragung CD8_CD20 N. Vasileiadis - Kopie/project.backup.qpproj',\n",
       " '../QuPathProjects/RCC-MaskenБbertragung CD204 N. Vasileiadis - Kopie/project.qpproj',\n",
       " '../QuPathProjects/RCC-MaskenБbertragung CD204 N. Vasileiadis - Kopie/project.backup.qpproj']"
      ]
     },
     "execution_count": 8,
     "metadata": {},
     "output_type": "execute_result"
    }
   ],
   "source": [
    "import json\n",
    "\n",
    "# recursively find all .qpproj files in a directory\n",
    "gproj_list: list[str] = glob(os.path.join(scan_path+\"/..\", \"**\", \"*.qpproj\"), recursive=True)\n",
    "[(it.split(\"/\", maxsplit=6))[-1] for it in gproj_list]"
   ]
  },
  {
   "cell_type": "code",
   "execution_count": 5,
   "metadata": {},
   "outputs": [
    {
     "ename": "IndexError",
     "evalue": "list index out of range",
     "output_type": "error",
     "traceback": [
      "\u001b[0;31m---------------------------------------------------------------------------\u001b[0m",
      "\u001b[0;31mIndexError\u001b[0m                                Traceback (most recent call last)",
      "Cell \u001b[0;32mIn[5], line 3\u001b[0m\n\u001b[1;32m      1\u001b[0m gproj_dicts \u001b[39m=\u001b[39m [json\u001b[39m.\u001b[39mload(\u001b[39mopen\u001b[39m(i)) \u001b[39mfor\u001b[39;00m i \u001b[39min\u001b[39;00m gproj_list]\n\u001b[1;32m      2\u001b[0m idx_i \u001b[39m=\u001b[39m \u001b[39m1\u001b[39m\n\u001b[0;32m----> 3\u001b[0m \u001b[39mprint\u001b[39m(gproj_dicts[idx_i][\u001b[39m\"\u001b[39m\u001b[39muri\u001b[39m\u001b[39m\"\u001b[39m])\n\u001b[1;32m      5\u001b[0m svs_files: \u001b[39mlist\u001b[39m[\u001b[39mstr\u001b[39m] \u001b[39m=\u001b[39m [item[\u001b[39m'\u001b[39m\u001b[39mserverBuilder\u001b[39m\u001b[39m'\u001b[39m][\u001b[39m\"\u001b[39m\u001b[39muri\u001b[39m\u001b[39m\"\u001b[39m] \u001b[39mfor\u001b[39;00m idx \u001b[39min\u001b[39;00m \u001b[39mrange\u001b[39m(\u001b[39mlen\u001b[39m(gproj_dicts)) \u001b[39mfor\u001b[39;00m item \u001b[39min\u001b[39;00m gproj_dicts[idx][\u001b[39m\"\u001b[39m\u001b[39mimages\u001b[39m\u001b[39m\"\u001b[39m]]\n\u001b[1;32m      6\u001b[0m svs_files: \u001b[39mlist\u001b[39m[\u001b[39mstr\u001b[39m] \u001b[39m=\u001b[39m [item[\u001b[39m'\u001b[39m\u001b[39mserverBuilder\u001b[39m\u001b[39m'\u001b[39m][\u001b[39m\"\u001b[39m\u001b[39muri\u001b[39m\u001b[39m\"\u001b[39m] \u001b[39mfor\u001b[39;00m item \u001b[39min\u001b[39;00m gproj_dicts[idx_i][\u001b[39m\"\u001b[39m\u001b[39mimages\u001b[39m\u001b[39m\"\u001b[39m]]\n",
      "\u001b[0;31mIndexError\u001b[0m: list index out of range"
     ]
    }
   ],
   "source": [
    "gproj_dicts = [json.load(open(i)) for i in gproj_list]\n",
    "idx_i = 1\n",
    "print(gproj_dicts[idx_i][\"uri\"])\n",
    "\n",
    "svs_files: list[str] = [item['serverBuilder'][\"uri\"] for idx in range(len(gproj_dicts)) for item in gproj_dicts[idx][\"images\"]]\n",
    "svs_files: list[str] = [item['serverBuilder'][\"uri\"] for item in gproj_dicts[idx_i][\"images\"]]\n",
    "\n",
    "svs_cases: list[str] = [os.path.basename(it).removesuffix(\".svs\") for it in svs_files]"
   ]
  },
  {
   "cell_type": "code",
   "execution_count": null,
   "metadata": {},
   "outputs": [
    {
     "data": {
      "text/plain": [
       "['RCC-TA-001.001~C',\n",
       " 'RCC-TA-001.016~B',\n",
       " 'RCC-TA-001.019~B',\n",
       " 'RCC-TA-001.019~E',\n",
       " 'RCC-TA-001.041~B',\n",
       " 'RCC-TA-001.042~B',\n",
       " 'RCC-TA-002.001~C',\n",
       " 'RCC-TA-002.016~B',\n",
       " 'RCC-TA-002.019~B',\n",
       " 'RCC-TA-002.019~E']"
      ]
     },
     "execution_count": 93,
     "metadata": {},
     "output_type": "execute_result"
    }
   ],
   "source": [
    "sorted(image_paths[:10])"
   ]
  },
  {
   "cell_type": "code",
   "execution_count": null,
   "metadata": {},
   "outputs": [
    {
     "data": {
      "text/plain": [
       "['RCC-TA-001.016~B',\n",
       " 'RCC-TA-002.016~B',\n",
       " 'RCC-TA-003.016~B',\n",
       " 'RCC-TA-004.016~B',\n",
       " 'RCC-TA-005.016~B',\n",
       " 'RCC-TA-006.016~B',\n",
       " 'RCC-TA-007.016~E',\n",
       " 'RCC-TA-008.016~E',\n",
       " 'RCC-TA-009.016~E',\n",
       " 'RCC-TA-011.016~H']"
      ]
     },
     "execution_count": 94,
     "metadata": {},
     "output_type": "execute_result"
    }
   ],
   "source": [
    "sorted(svs_cases[:10])"
   ]
  },
  {
   "cell_type": "code",
   "execution_count": null,
   "metadata": {},
   "outputs": [
    {
     "data": {
      "text/plain": [
       "{'M1-101.016~B',\n",
       " 'M1-113.016~B',\n",
       " 'M1-119.016~B',\n",
       " 'M1-136.016~B',\n",
       " 'M1-151.016~B',\n",
       " 'M1-156.016~B',\n",
       " 'M1-159.016~B',\n",
       " 'M1-161.016flipped',\n",
       " 'M1-162.016~B',\n",
       " 'M1-163.016~B',\n",
       " 'M1-165.016~B',\n",
       " 'M1-166.016~B',\n",
       " 'M1-167.016~B',\n",
       " 'M1-173.016~B',\n",
       " 'M2-136.016~B',\n",
       " 'M2-151.016~B',\n",
       " 'M2-162.016~C',\n",
       " 'M2-173.016~B',\n",
       " 'M3-173.016~B',\n",
       " 'RCC-TA-063.016~E',\n",
       " 'RCC-TA-066.016~E',\n",
       " 'RCC-TA-068.016~H',\n",
       " 'RCC-TA-069.016~E'}"
      ]
     },
     "execution_count": 95,
     "metadata": {},
     "output_type": "execute_result"
    }
   ],
   "source": [
    "set(svs_cases).difference(set(image_paths))"
   ]
  },
  {
   "attachments": {},
   "cell_type": "markdown",
   "metadata": {},
   "source": [
    "## cases with missing surv times"
   ]
  },
  {
   "cell_type": "code",
   "execution_count": null,
   "metadata": {},
   "outputs": [],
   "source": [
    "import numpy as np\n",
    "cases_w_images = np.asarray(images)[:, 0]\n",
    "no_tab_data: list[str] = ['067', '066', '077', '137', '134', '150', '152', '155', '168', '196']\n",
    "[case in cases_w_images for case in no_tab_data]"
   ]
  },
  {
   "cell_type": "code",
   "execution_count": 16,
   "metadata": {},
   "outputs": [
    {
     "data": {
      "text/plain": [
       "['RCC-MaskenБbertragung CD4_FoxP3 N. Vasileiadis - Kopie/project.qpproj',\n",
       " 'RCC-Maskenubertragung-CD204-N.-Vasileiadis-Kopie/project.qpproj',\n",
       " 'RCC-MaskenБbertragung CD68 N. Vasileiadis - Kopie/project.qpproj',\n",
       " 'RCC-MaskenБbertragung CD8_CD20 N. Vasileiadis - Kopie/project.qpproj']"
      ]
     },
     "execution_count": 16,
     "metadata": {},
     "output_type": "execute_result"
    }
   ],
   "source": [
    "scan_path:str = \"/data2/projects/DigiStrudMed_sklein/DigiStrucMed_Braesen/\"\n",
    "gproj_list: list[str] = glob(os.path.join(scan_path, \"**\", \"*.qpproj\"), recursive=True)\n",
    "[(it.split(\"/\", maxsplit=6))[-1] for it in gproj_list]"
   ]
  },
  {
   "cell_type": "code",
   "execution_count": 19,
   "metadata": {},
   "outputs": [
    {
     "data": {
      "text/plain": [
       "['/data2/projects/DigiStrudMed_sklein/DigiStrucMed_Bräsen/QuPathProjects/RCC-MaskenБbertragung CD4_FoxP3 N. Vasileiadis - Kopie/project.qpproj',\n",
       " '/data2/projects/DigiStrudMed_sklein/DigiStrucMed_Bräsen/QuPathProjects/RCC-Maskenubertragung-CD204-N.-Vasileiadis-Kopie/project.qpproj',\n",
       " '/data2/projects/DigiStrudMed_sklein/DigiStrucMed_Bräsen/QuPathProjects/RCC-MaskenБbertragung CD68 N. Vasileiadis - Kopie/project.qpproj',\n",
       " '/data2/projects/DigiStrudMed_sklein/DigiStrucMed_Bräsen/QuPathProjects/RCC-MaskenБbertragung CD8_CD20 N. Vasileiadis - Kopie/project.qpproj']"
      ]
     },
     "execution_count": 19,
     "metadata": {},
     "output_type": "execute_result"
    }
   ],
   "source": [
    "gproj_list"
   ]
  },
  {
   "cell_type": "code",
   "execution_count": 28,
   "metadata": {},
   "outputs": [
    {
     "data": {
      "text/plain": [
       "'/data2/projects/DigiStrudMed_sklein/DigiStrucMed_Bräsen/QuPathProjects/RCC-Maskenubertragung-CD204-N.-Vasileiadis-Kopie/project.qpproj'"
      ]
     },
     "execution_count": 28,
     "metadata": {},
     "output_type": "execute_result"
    }
   ],
   "source": [
    "gproj_list[1]"
   ]
  },
  {
   "cell_type": "code",
   "execution_count": 30,
   "metadata": {},
   "outputs": [
    {
     "name": "stdout",
     "output_type": "stream",
     "text": [
      "file:///data2/projects/DigiStrudMed_sklein/DigiStrucMed_Bräsen/QuPathProjects/RCC-MaskenБbertragung CD8_CD20 N. Vasileiadis - Kopie/project.qpproj\n"
     ]
    }
   ],
   "source": [
    "idx_i = 3\n",
    "\n",
    "gproj_dicts = [json.load(open(i)) for i in [gproj_list[idx_i]]]\n",
    "print(gproj_dicts[0][\"uri\"])\n",
    "\n",
    "svs_files: list[str] = [item['serverBuilder'][\"uri\"] for idx in range(len(gproj_dicts)) for item in gproj_dicts[idx][\"images\"]]\n",
    "# svs_files: list[str] = [item['serverBuilder'][\"uri\"] for item in gproj_dicts[idx_i][\"images\"]]\n",
    "\n",
    "svs_cases: list[str] = [os.path.basename(it).removesuffix(\".svs\") for it in svs_files]"
   ]
  }
 ],
 "metadata": {
  "kernelspec": {
   "display_name": "Python 3 (ipykernel)",
   "language": "python",
   "name": "python3"
  },
  "language_info": {
   "codemirror_mode": {
    "name": "ipython",
    "version": 3
   },
   "file_extension": ".py",
   "mimetype": "text/x-python",
   "name": "python",
   "nbconvert_exporter": "python",
   "pygments_lexer": "ipython3",
   "version": "3.10.9"
  },
  "orig_nbformat": 4,
  "vscode": {
   "interpreter": {
    "hash": "2c1613d379ab916e892bf2fd0f57f9eada89f57c8c198c48040e230985ec083e"
   }
  }
 },
 "nbformat": 4,
 "nbformat_minor": 2
}
