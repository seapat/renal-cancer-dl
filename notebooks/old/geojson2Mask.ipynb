{
 "cells": [
  {
   "cell_type": "code",
   "execution_count": 43,
   "metadata": {},
   "outputs": [],
   "source": [
    "import json\n",
    "\n",
    "import numpy as np\n",
    "import openslide\n",
    "import shapely.geometry as geometry\n",
    "import rasterio.features as features\n",
    "\n",
    "import tifffile\n",
    "from tifffile import TiffWriter\n"
   ]
  },
  {
   "cell_type": "code",
   "execution_count": 44,
   "metadata": {},
   "outputs": [],
   "source": [
    "import torch\n",
    "import numpy as np\n",
    "import matplotlib.pyplot as plt\n",
    "\n",
    "import torchvision.transforms.functional as F\n",
    "\n",
    "\n",
    "plt.rcParams[\"savefig.bbox\"] = \"tight\"\n",
    "\n",
    "\n",
    "def show(imgs):\n",
    "    if not isinstance(imgs, list):\n",
    "        imgs = [imgs]\n",
    "    fig, axs = plt.subplots(ncols=len(imgs), squeeze=False)\n",
    "    for i, img in enumerate(imgs):\n",
    "        img = img.detach()\n",
    "        img = F.to_pil_image(img)\n",
    "        axs[0, i].imshow(\n",
    "            np.asarray(img), interpolation=\"none\", cmap=\"gray\", vmin=0, vmax=1\n",
    "        )\n",
    "        axs[0, i].set(xticklabels=[], yticklabels=[], xticks=[], yticks=[])\n"
   ]
  },
  {
   "cell_type": "code",
   "execution_count": 12,
   "metadata": {},
   "outputs": [],
   "source": [
    "#base_path: str = \"/data2/projects/DigiStrudMed_sklein/sample-case/Scans-QuPathProjekt-RCC(1Case)-10062021/\"\n",
    "# base_path: str = \"/media/sciobiome/DATA/sklein_tmp/Scans-QuPathProjekt-RCC-1Case-10062021/\"\n",
    "base_path:str = \"/data2/projects/DigiStrudMed_sklein/sample-case/Scans-fuer-QupathProjekt-RCC-3Faelle-10062021/\"\n",
    "\n",
    "case: str = \"RCC-TA-011.001.023~M\" # 1.8 gb\n",
    "#case: str = \"RCC-TA-070.016~H\" # 3.5 gb\n",
    "# case: str = \"RCC-TA-070.019~E\" # 27 gb\n",
    "cases: list[str] = [\"RCC-TA-011.001.023~M\", \"RCC-TA-070.016~H\", \"RCC-TA-070.019~E\"]\n",
    "\n",
    "image = base_path + case + \".svs\"\n",
    "\n",
    "# JSON array like this [{type: ..., id: ..., geometry: ..., properties: ...}, {...}, ...]\n",
    "geojson_array: str = base_path + case + \".svs.json\"\n",
    "\n",
    "# QuPath's FeatureCollection wraps the above in a dict\n",
    "# {\"type\": \"FeatureCollection\", \"features\": [{...}, {...}, ...]}\n",
    "geojson_feat: str = base_path + case + \".svs-FeatColl.json\"\n",
    "\n",
    "annos_of_interest: list[str] = [\n",
    "    \"Tumor_vital\",\n",
    "    \"diffuse tumor growth in soft tissue\",\n",
    "    \"Angioinvasion\",\n",
    "    \"Tumor_necrosis\",\n",
    "    \"Tumor_regression\",\n",
    "    \"Tissue\",\n",
    "]\n"
   ]
  },
  {
   "cell_type": "code",
   "execution_count": 61,
   "metadata": {},
   "outputs": [],
   "source": [
    "import numpy as np\n",
    "from shapely.ops import split\n",
    "# import geopandas\n",
    "from shapely.geometry import MultiPolygon, Polygon, LineString\n",
    "\n",
    "\n",
    "def get_squares_from_rect(RectangularPolygon, side_length=0.0025):\n",
    "    \"\"\"\n",
    "    Divide a Rectangle (Shapely Polygon) into squares of equal area.\n",
    "\n",
    "    `side_length` : required side of square\n",
    "\n",
    "    \"\"\"\n",
    "    rect_coords = np.array(RectangularPolygon.boundary.coords.xy)\n",
    "    y_list = rect_coords[1]\n",
    "    x_list = rect_coords[0]\n",
    "    y1 = min(y_list)\n",
    "    y2 = max(y_list)\n",
    "    x1 = min(x_list)\n",
    "    x2 = max(x_list)\n",
    "    width = x2 - x1\n",
    "    height = y2 - y1\n",
    "\n",
    "    xcells = int(np.round(width / side_length))\n",
    "    ycells = int(np.round(height / side_length))\n",
    "\n",
    "    yindices = np.linspace(y1, y2, ycells + 1)\n",
    "    xindices = np.linspace(x1, x2, xcells + 1)\n",
    "    horizontal_splitters = [\n",
    "        LineString([(x, yindices[0]), (x, yindices[-1])]) for x in xindices\n",
    "    ]\n",
    "    vertical_splitters = [\n",
    "        LineString([(xindices[0], y), (xindices[-1], y)]) for y in yindices\n",
    "    ]\n",
    "    result = RectangularPolygon\n",
    "    for splitter in vertical_splitters:\n",
    "        result = MultiPolygon(split(result, splitter))\n",
    "    for splitter in horizontal_splitters:\n",
    "        result = MultiPolygon(split(result, splitter))\n",
    "    square_polygons = list(result)\n",
    "\n",
    "    return square_polygons"
   ]
  },
  {
   "cell_type": "code",
   "execution_count": 50,
   "metadata": {},
   "outputs": [
    {
     "name": "stderr",
     "output_type": "stream",
     "text": [
      "TIFFReadDirectory: Warning, Unknown field with tag 45744 (0xb2b0) encountered.\n",
      "TIFFReadDirectory: Warning, Unknown field with tag 45745 (0xb2b1) encountered.\n",
      "TIFFReadDirectory: Warning, Unknown field with tag 45746 (0xb2b2) encountered.\n",
      "TIFFReadDirectory: Warning, Unknown field with tag 46000 (0xb3b0) encountered.\n",
      "TIFFReadDirectoryCheckOrder: Warning, Invalid TIFF directory; tags are not sorted in ascending order.\n",
      "TIFFReadDirectory: Warning, Unknown field with tag 45744 (0xb2b0) encountered.\n",
      "TIFFReadDirectory: Warning, Unknown field with tag 45745 (0xb2b1) encountered.\n",
      "TIFFReadDirectory: Warning, Unknown field with tag 45746 (0xb2b2) encountered.\n",
      "TIFFReadDirectory: Warning, Unknown field with tag 46000 (0xb3b0) encountered.\n",
      "TIFFReadDirectoryCheckOrder: Warning, Invalid TIFF directory; tags are not sorted in ascending order.\n",
      "TIFFReadDirectory: Warning, Unknown field with tag 45744 (0xb2b0) encountered.\n",
      "TIFFReadDirectory: Warning, Unknown field with tag 45745 (0xb2b1) encountered.\n",
      "TIFFReadDirectory: Warning, Unknown field with tag 45746 (0xb2b2) encountered.\n",
      "TIFFReadDirectory: Warning, Unknown field with tag 46000 (0xb3b0) encountered.\n",
      "TIFFReadDirectoryCheckOrder: Warning, Invalid TIFF directory; tags are not sorted in ascending order.\n",
      "TIFFReadDirectory: Warning, Unknown field with tag 45744 (0xb2b0) encountered.\n",
      "TIFFReadDirectory: Warning, Unknown field with tag 45745 (0xb2b1) encountered.\n",
      "TIFFReadDirectory: Warning, Unknown field with tag 45746 (0xb2b2) encountered.\n",
      "TIFFReadDirectory: Warning, Unknown field with tag 46000 (0xb3b0) encountered.\n"
     ]
    }
   ],
   "source": [
    "# 1. READ JSON ARRAY\n",
    "input_file = open(geojson_array)\n",
    "data = json.load(input_file)\n",
    "\n",
    "# 2. FILTER ANNOTATIONS FOR TISSUE AND TUMOR\n",
    "\n",
    "annos = []\n",
    "for dict_like in data:\n",
    "    props = dict_like[\"properties\"]\n",
    "    if props[\"objectType\"] == \"annotation\":\n",
    "        if props[\"classification\"][\"name\"] in annos_of_interest:\n",
    "            annos.append(dict_like)\n",
    "\n",
    "# Open the SVS file\n",
    "svs = openslide.open_slide(image)\n",
    "width, height = svs.dimensions\n",
    "\n",
    "# 3. CONVERT TO SHAPELY SHAPES\n",
    "shapes = {\n",
    "    annotation[\"properties\"][\"classification\"][\"name\"]: geometry.shape(\n",
    "        annotation[\"geometry\"]\n",
    "    )\n",
    "    for annotation in annos\n",
    "}\n",
    "\n",
    "shapes[\"Tissue\"].bounds"
   ]
  },
  {
   "cell_type": "code",
   "execution_count": 51,
   "metadata": {},
   "outputs": [
    {
     "data": {
      "text/plain": [
       "(5528.96, 4279.22, 97372.6, 93042.53)"
      ]
     },
     "execution_count": 51,
     "metadata": {},
     "output_type": "execute_result"
    }
   ],
   "source": [
    "shapes[\"Tissue\"].bounds"
   ]
  },
  {
   "cell_type": "code",
   "execution_count": 42,
   "metadata": {},
   "outputs": [
    {
     "name": "stderr",
     "output_type": "stream",
     "text": [
      "TIFFReadDirectory: Warning, Unknown field with tag 45744 (0xb2b0) encountered.\n",
      "TIFFReadDirectory: Warning, Unknown field with tag 45745 (0xb2b1) encountered.\n",
      "TIFFReadDirectory: Warning, Unknown field with tag 45746 (0xb2b2) encountered.\n",
      "TIFFReadDirectory: Warning, Unknown field with tag 46000 (0xb3b0) encountered.\n",
      "TIFFReadDirectoryCheckOrder: Warning, Invalid TIFF directory; tags are not sorted in ascending order.\n",
      "TIFFReadDirectory: Warning, Unknown field with tag 45744 (0xb2b0) encountered.\n",
      "TIFFReadDirectory: Warning, Unknown field with tag 45745 (0xb2b1) encountered.\n",
      "TIFFReadDirectory: Warning, Unknown field with tag 45746 (0xb2b2) encountered.\n",
      "TIFFReadDirectory: Warning, Unknown field with tag 46000 (0xb3b0) encountered.\n",
      "TIFFReadDirectoryCheckOrder: Warning, Invalid TIFF directory; tags are not sorted in ascending order.\n",
      "TIFFReadDirectory: Warning, Unknown field with tag 45744 (0xb2b0) encountered.\n",
      "TIFFReadDirectory: Warning, Unknown field with tag 45745 (0xb2b1) encountered.\n",
      "TIFFReadDirectory: Warning, Unknown field with tag 45746 (0xb2b2) encountered.\n",
      "TIFFReadDirectory: Warning, Unknown field with tag 46000 (0xb3b0) encountered.\n",
      "TIFFReadDirectoryCheckOrder: Warning, Invalid TIFF directory; tags are not sorted in ascending order.\n",
      "TIFFReadDirectory: Warning, Unknown field with tag 45744 (0xb2b0) encountered.\n",
      "TIFFReadDirectory: Warning, Unknown field with tag 45745 (0xb2b1) encountered.\n",
      "TIFFReadDirectory: Warning, Unknown field with tag 45746 (0xb2b2) encountered.\n",
      "TIFFReadDirectory: Warning, Unknown field with tag 46000 (0xb3b0) encountered.\n"
     ]
    },
    {
     "ename": "KeyboardInterrupt",
     "evalue": "",
     "output_type": "error",
     "traceback": [
      "\u001b[0;31m---------------------------------------------------------------------------\u001b[0m",
      "\u001b[0;31mKeyboardInterrupt\u001b[0m                         Traceback (most recent call last)",
      "Cell \u001b[0;32mIn[42], line 32\u001b[0m\n\u001b[1;32m     30\u001b[0m \u001b[39m# masks[case+\"_all-touched\"] = {}\u001b[39;00m\n\u001b[1;32m     31\u001b[0m \u001b[39mfor\u001b[39;00m name, curr_shape \u001b[39min\u001b[39;00m shapes\u001b[39m.\u001b[39mitems():\n\u001b[0;32m---> 32\u001b[0m     mask \u001b[39m=\u001b[39m features\u001b[39m.\u001b[39;49mrasterize(\n\u001b[1;32m     33\u001b[0m         shapes\u001b[39m=\u001b[39;49m[curr_shape],\n\u001b[1;32m     34\u001b[0m         out_shape\u001b[39m=\u001b[39;49m(\n\u001b[1;32m     35\u001b[0m             height,\n\u001b[1;32m     36\u001b[0m             width,\n\u001b[1;32m     37\u001b[0m         ),  \u001b[39m# this flip of dims seems necessary to get right shape\u001b[39;49;00m\n\u001b[1;32m     38\u001b[0m         dtype\u001b[39m=\u001b[39;49mnp\u001b[39m.\u001b[39;49muint8,\n\u001b[1;32m     39\u001b[0m     )\n\u001b[1;32m     40\u001b[0m     masks[case][name] \u001b[39m=\u001b[39m mask\n\u001b[1;32m     42\u001b[0m \u001b[39m# for name, curr_shape in shapes.items():\u001b[39;00m\n\u001b[1;32m     43\u001b[0m \u001b[39m#     mask = features.rasterize(\u001b[39;00m\n\u001b[1;32m     44\u001b[0m \u001b[39m#         [curr_shape],\u001b[39;00m\n\u001b[0;32m   (...)\u001b[0m\n\u001b[1;32m     50\u001b[0m \u001b[39m#     )\u001b[39;00m\n\u001b[1;32m     51\u001b[0m \u001b[39m#     masks[case+\"_all-touched\"][name] = mask\u001b[39;00m\n",
      "File \u001b[0;32m~/mambaforge/envs/sklein/lib/python3.9/site-packages/rasterio/env.py:394\u001b[0m, in \u001b[0;36mensure_env.<locals>.wrapper\u001b[0;34m(*args, **kwds)\u001b[0m\n\u001b[1;32m    392\u001b[0m \u001b[39melse\u001b[39;00m:\n\u001b[1;32m    393\u001b[0m     \u001b[39mwith\u001b[39;00m Env\u001b[39m.\u001b[39mfrom_defaults():\n\u001b[0;32m--> 394\u001b[0m         \u001b[39mreturn\u001b[39;00m f(\u001b[39m*\u001b[39;49margs, \u001b[39m*\u001b[39;49m\u001b[39m*\u001b[39;49mkwds)\n",
      "File \u001b[0;32m~/mambaforge/envs/sklein/lib/python3.9/site-packages/rasterio/features.py:362\u001b[0m, in \u001b[0;36mrasterize\u001b[0;34m(shapes, out_shape, fill, out, transform, all_touched, merge_alg, default_value, dtype)\u001b[0m\n\u001b[1;32m    359\u001b[0m     \u001b[39mraise\u001b[39;00m \u001b[39mValueError\u001b[39;00m(\u001b[39m\"\u001b[39m\u001b[39mwidth and height must be > 0\u001b[39m\u001b[39m\"\u001b[39m)\n\u001b[1;32m    361\u001b[0m transform \u001b[39m=\u001b[39m guard_transform(transform)\n\u001b[0;32m--> 362\u001b[0m _rasterize(valid_shapes, out, transform, all_touched, merge_alg)\n\u001b[1;32m    363\u001b[0m \u001b[39mreturn\u001b[39;00m out\n",
      "File \u001b[0;32mrasterio/_features.pyx:356\u001b[0m, in \u001b[0;36mrasterio._features._rasterize\u001b[0;34m()\u001b[0m\n",
      "File \u001b[0;32mrasterio/_base.pyx:446\u001b[0m, in \u001b[0;36mrasterio._base.DatasetBase.__exit__\u001b[0;34m()\u001b[0m\n",
      "File \u001b[0;32mrasterio/_base.pyx:438\u001b[0m, in \u001b[0;36mrasterio._base.DatasetBase.close\u001b[0;34m()\u001b[0m\n",
      "File \u001b[0;32m~/mambaforge/envs/sklein/lib/python3.9/contextlib.py:538\u001b[0m, in \u001b[0;36mExitStack.close\u001b[0;34m(self)\u001b[0m\n\u001b[1;32m    535\u001b[0m             \u001b[39mraise\u001b[39;00m\n\u001b[1;32m    536\u001b[0m     \u001b[39mreturn\u001b[39;00m received_exc \u001b[39mand\u001b[39;00m suppressed_exc\n\u001b[0;32m--> 538\u001b[0m \u001b[39mdef\u001b[39;00m \u001b[39mclose\u001b[39m(\u001b[39mself\u001b[39m):\n\u001b[1;32m    539\u001b[0m \u001b[39m    \u001b[39m\u001b[39m\"\"\"Immediately unwind the context stack.\"\"\"\u001b[39;00m\n\u001b[1;32m    540\u001b[0m     \u001b[39mself\u001b[39m\u001b[39m.\u001b[39m\u001b[39m__exit__\u001b[39m(\u001b[39mNone\u001b[39;00m, \u001b[39mNone\u001b[39;00m, \u001b[39mNone\u001b[39;00m)\n",
      "\u001b[0;31mKeyboardInterrupt\u001b[0m: "
     ]
    }
   ],
   "source": [
    "# 1. READ JSON ARRAY\n",
    "input_file = open(geojson_array)\n",
    "data = json.load(input_file)\n",
    "\n",
    "# 2. FILTER ANNOTATIONS FOR TISSUE AND TUMOR\n",
    "\n",
    "annos = []\n",
    "for dict_like in data:\n",
    "    props = dict_like[\"properties\"]\n",
    "    if props[\"objectType\"] == \"annotation\":\n",
    "        if props[\"classification\"][\"name\"] in annos_of_interest:\n",
    "            annos.append(dict_like)\n",
    "\n",
    "# Open the SVS file\n",
    "svs = openslide.open_slide(image)\n",
    "width, height = svs.dimensions\n",
    "\n",
    "# 3. CONVERT TO SHAPELY SHAPES\n",
    "shapes = {\n",
    "    annotation[\"properties\"][\"classification\"][\"name\"]: geometry.shape(\n",
    "        annotation[\"geometry\"]\n",
    "    )\n",
    "    for annotation in annos\n",
    "}\n",
    "\n",
    "# 4. CONVERT TO MASK (TUMOR AND TISSUE)\n",
    "masks = {}\n",
    "for case in cases:\n",
    "    masks[case] = {}\n",
    "    # masks[case+\"_all-touched\"] = {}\n",
    "    for name, curr_shape in shapes.items():\n",
    "        mask = features.rasterize(\n",
    "            shapes=[curr_shape],\n",
    "            out_shape=(\n",
    "                height,\n",
    "                width,\n",
    "            ),  # this flip of dims seems necessary to get right shape\n",
    "            dtype=np.uint8,\n",
    "        )\n",
    "        masks[case][name] = mask\n",
    "\n",
    "    # for name, curr_shape in shapes.items():\n",
    "    #     mask = features.rasterize(\n",
    "    #         [curr_shape],\n",
    "    #         out_shape=(\n",
    "    #             height,\n",
    "    #             width,\n",
    "    #         ),  # this flip of dims seems necessary to get right shape\n",
    "    #         all_touched=True,\n",
    "    #     )\n",
    "    #     masks[case+\"_all-touched\"][name] = mask\n"
   ]
  },
  {
   "cell_type": "code",
   "execution_count": null,
   "metadata": {},
   "outputs": [
    {
     "data": {
      "image/png": "[encoded data removed]",
      "text/plain": [
       "<Figure size 640x480 with 1 Axes>"
      ]
     },
     "metadata": {},
     "output_type": "display_data"
    }
   ],
   "source": [
    "# show(torch.as_tensor(masks[case][name]))"
   ]
  },
  {
   "cell_type": "code",
   "execution_count": null,
   "metadata": {},
   "outputs": [],
   "source": [
    "# for name, curr_shape in shapes.items():\n",
    "#     print((masks[case][name]==masks[case+\"_all-touched\"][name]).all())"
   ]
  },
  {
   "cell_type": "code",
   "execution_count": null,
   "metadata": {},
   "outputs": [],
   "source": [
    "# curr_mask = masks[case].get(\"Tissue\")\n",
    "# print(f\"\"\"\n",
    "# {np.histogram(curr_mask)}\n",
    "# {curr_mask.shape}\n",
    "# {np.mean(curr_mask)}\n",
    "# \"\"\")\n"
   ]
  },
  {
   "cell_type": "code",
   "execution_count": 1,
   "metadata": {},
   "outputs": [
    {
     "ename": "NameError",
     "evalue": "name 'cases' is not defined",
     "output_type": "error",
     "traceback": [
      "\u001b[0;31m---------------------------------------------------------------------------\u001b[0m",
      "\u001b[0;31mNameError\u001b[0m                                 Traceback (most recent call last)",
      "Cell \u001b[0;32mIn[1], line 1\u001b[0m\n\u001b[0;32m----> 1\u001b[0m \u001b[39mfor\u001b[39;00m case \u001b[39min\u001b[39;00m cases:\n\u001b[1;32m      2\u001b[0m     data_array \u001b[39m=\u001b[39m torch\u001b[39m.\u001b[39mas_tensor(masks[case][\u001b[39m'\u001b[39m\u001b[39mTissue\u001b[39m\u001b[39m'\u001b[39m])\n\u001b[1;32m      3\u001b[0m     \u001b[39m# We need pickle protocol 4 or higher\u001b[39;00m\n",
      "\u001b[0;31mNameError\u001b[0m: name 'cases' is not defined"
     ]
    }
   ],
   "source": [
    "for case in cases:\n",
    "    data_array = torch.as_tensor(masks[case]['Tissue'])\n",
    "    # We need pickle protocol 4 or higher\n",
    "    torch.save(data_array, case+'-Tissue.pt', pickle_protocol=5)\n"
   ]
  },
  {
   "cell_type": "code",
   "execution_count": 10,
   "metadata": {},
   "outputs": [],
   "source": [
    "from rasterio import features\n",
    "from shapely import geometry\n",
    "import openslide\n",
    "import json\n",
    "\n",
    "def geojson_to_mask(gjson_file, target_annos: list[str]):\n",
    "    \"\"\"\n",
    "    gjson_file: path to geojson file\n",
    "    target_annos: list of annotations to extract\n",
    "    img_hxw: tuple of image dimensions (width, height)\n",
    "    \"\"\"\n",
    "\n",
    "    # 1. READ JSON ARRAY from geojson file\n",
    "    input_file = open(gjson_file)\n",
    "    data = json.load(input_file)\n",
    "\n",
    "    # 2. FILTER ANNOTATIONS FOR TISSUE AND TUMOR\n",
    "    annos = []\n",
    "    for dict_like in data:\n",
    "        props = dict_like[\"properties\"]\n",
    "        if props[\"objectType\"] == \"annotation\":\n",
    "            if props[\"classification\"][\"name\"] in target_annos:\n",
    "                annos.append(dict_like)\n",
    "\n",
    "    # 3. CONVERT TO SHAPELY SHAPES\n",
    "    shapes = {\n",
    "        annotation[\"properties\"][\"classification\"][\"name\"]: geometry.shape(\n",
    "            annotation[\"geometry\"]\n",
    "        )\n",
    "        for annotation in annos\n",
    "    }\n",
    "\n",
    "    return shapes"
   ]
  },
  {
   "cell_type": "code",
   "execution_count": 14,
   "metadata": {},
   "outputs": [],
   "source": [
    "from shapely.ops import unary_union, polygonize, linemerge\n",
    "from shapely.geometry import LineString\n",
    "import numpy as np\n",
    "\n",
    "import os\n",
    "import sys\n",
    "from glob import glob\n",
    "\n",
    "# compat\n",
    "sys.path.append(\"../src/\")\n",
    "\n",
    "from helpers import show\n",
    "\n",
    "img_path = \"/home/sean/Documents/RCC-Data/Scans-QuPathProjekt-RCC(1Case)-10062021/RCC-TA-011.001.023~M.svs\"\n",
    "gjson =  geojson_array # img_path + \".json\"\n",
    "shapes = geojson_to_mask(gjson, [\"Tissue\"])\n"
   ]
  },
  {
   "cell_type": "code",
   "execution_count": 15,
   "metadata": {},
   "outputs": [],
   "source": [
    "def get_squares_from_rect_faster(RectangularPolygon, side_length=0.0025):\n",
    "    rect_coords = np.array(RectangularPolygon.boundary.coords.xy)\n",
    "    y_list = rect_coords[1]\n",
    "    x_list = rect_coords[0]\n",
    "    y1 = min(y_list)\n",
    "    y2 = max(y_list)\n",
    "    x1 = min(x_list)\n",
    "    x2 = max(x_list)\n",
    "    width = x2 - x1\n",
    "    height = y2 - y1\n",
    "\n",
    "    # xcells = int(np.round(width / side_length))\n",
    "    # ycells = int(np.round(height / side_length))\n",
    "    # yindices = np.linspace(y1, y2, ycells + 1)\n",
    "    # xindices = np.linspace(x1, x2, xcells + 1)\n",
    "\n",
    "    # this might slightly overstep the shape\n",
    "    yindices = np.arange(y1, y2, step=side_length)\n",
    "    xindices = np.arange(x1, x2, step=side_length)\n",
    "\n",
    "    horizontal_splitters = [\n",
    "        LineString([(x, yindices[0]), (x, yindices[-1])]) for x in xindices\n",
    "    ]\n",
    "    vertical_splitters = [\n",
    "        LineString([(xindices[0], y), (xindices[-1], y)]) for y in yindices\n",
    "    ]\n",
    "\n",
    "    lines = horizontal_splitters + vertical_splitters\n",
    "    lines.append(RectangularPolygon.boundary)\n",
    "    lines = unary_union(lines)\n",
    "    lines = linemerge(lines)\n",
    "\n",
    "    # print(lines)\n",
    "    return list(polygonize(lines))"
   ]
  },
  {
   "cell_type": "code",
   "execution_count": 16,
   "metadata": {},
   "outputs": [],
   "source": [
    "def extract_poly_coords(geom):\n",
    "    # https://stackoverflow.com/a/21922058\n",
    "    if geom.geom_type == 'Polygon':\n",
    "        exterior_coords = geom.exterior.coords[:]\n",
    "        interior_coords = []\n",
    "        for interior in geom.interiors:\n",
    "            interior_coords += interior.coords[:]\n",
    "    elif geom.geom_type == 'MultiPolygon':\n",
    "        exterior_coords = []\n",
    "        interior_coords = []\n",
    "        for part in geom:\n",
    "            epc = extract_poly_coords(part)  # Recursive call\n",
    "            exterior_coords += epc['exterior_coords']\n",
    "            interior_coords += epc['interior_coords']\n",
    "    else:\n",
    "        raise ValueError('Unhandled geometry type: ' + repr(geom.type))\n",
    "    return {'exterior_coords': exterior_coords,\n",
    "            'interior_coords': interior_coords}\n",
    "\n"
   ]
  },
  {
   "cell_type": "code",
   "execution_count": 18,
   "metadata": {},
   "outputs": [],
   "source": [
    "from shapely.prepared import prep\n",
    "from shapely.geometry import Point\n",
    "\n",
    "def get_grid_locations(polygon) -> list[Point]:\n",
    "    # https://stackoverflow.com/a/66017009\n",
    "    valid_points = []\n",
    "\n",
    "    # determine maximum edges\n",
    "    # polygon = max(shapes[\"Tissue\"].geoms, key=lambda a: a.area)\n",
    "    latmin, lonmin, latmax, lonmax = polygon.bounds\n",
    "    step_size = 512\n",
    "\n",
    "    # create prepared polygon\n",
    "    prep_polygon = prep(polygon)\n",
    "\n",
    "    # construct a rectangular mesh\n",
    "    points = []\n",
    "    for lat in np.arange(latmin, latmax, step_size):\n",
    "        for lon in np.arange(lonmin, lonmax, step_size):\n",
    "            # Cucim ignores sub-pixel precision\n",
    "            # cutting decimals is faster than round and makes sure we dont have 1px gaps\n",
    "            # points.append(Point((round(lat,4), round(lon,4))))\n",
    "            points.append(Point((int(lat), int(lon))))\n",
    "\n",
    "    # validate if each point falls inside shape using\n",
    "    # the prepared polygon\n",
    "    valid_points.extend(filter(prep_polygon.contains, points))\n",
    "\n",
    "    return valid_points"
   ]
  },
  {
   "cell_type": "code",
   "execution_count": 19,
   "metadata": {},
   "outputs": [
    {
     "data": {
      "text/plain": [
       "True"
      ]
     },
     "execution_count": 19,
     "metadata": {},
     "output_type": "execute_result"
    }
   ],
   "source": [
    "valid_points =[]\n",
    "for object in shapes[\"Tissue\"].geoms:\n",
    "    valid_points.extend(get_grid_locations(object))\n",
    "    \n",
    "valid_points2 = [point for geom in shapes[\"Tissue\"].geoms for point in get_grid_locations(geom)  ]\n",
    "sorted(valid_points2, key=lambda x: x.x) == sorted(valid_points, key=lambda x: x.x)"
   ]
  },
  {
   "cell_type": "code",
   "execution_count": 33,
   "metadata": {},
   "outputs": [
    {
     "data": {
      "text/plain": [
       "True"
      ]
     },
     "execution_count": 33,
     "metadata": {},
     "output_type": "execute_result"
    }
   ],
   "source": [
    "import shapely\n",
    "\n",
    "isinstance(shapes[\"Tissue\"].geoms[0], shapely.Polygon)"
   ]
  },
  {
   "cell_type": "code",
   "execution_count": 20,
   "metadata": {},
   "outputs": [],
   "source": [
    "valid_points = get_grid_locations(max(shapes[\"Tissue\"].geoms, key=lambda a: a.area))"
   ]
  },
  {
   "cell_type": "code",
   "execution_count": 21,
   "metadata": {},
   "outputs": [
    {
     "ename": "ValueError",
     "evalue": "Cannot open /home/sean/Documents/RCC-Data/Scans-QuPathProjekt-RCC(1Case)-10062021/RCC-TA-011.001.023~M.svs!",
     "output_type": "error",
     "traceback": [
      "\u001b[0;31m---------------------------------------------------------------------------\u001b[0m",
      "\u001b[0;31mValueError\u001b[0m                                Traceback (most recent call last)",
      "Cell \u001b[0;32mIn[21], line 6\u001b[0m\n\u001b[1;32m      2\u001b[0m \u001b[39mimport\u001b[39;00m \u001b[39mtorch\u001b[39;00m\n\u001b[1;32m      3\u001b[0m \u001b[39mfrom\u001b[39;00m \u001b[39mtorchvision\u001b[39;00m\u001b[39m.\u001b[39;00m\u001b[39mutils\u001b[39;00m \u001b[39mimport\u001b[39;00m make_grid\n\u001b[0;32m----> 6\u001b[0m img \u001b[39m=\u001b[39m CuImage(img_path)\n\u001b[1;32m      7\u001b[0m region \u001b[39m=\u001b[39m img\u001b[39m.\u001b[39mread_region(size\u001b[39m=\u001b[39m(\u001b[39m512\u001b[39m, \u001b[39m512\u001b[39m), location\u001b[39m=\u001b[39m((\u001b[39m6040.96\u001b[39m \u001b[39m-\u001b[39m \u001b[39m512\u001b[39m \u001b[39m/\u001b[39m \u001b[39m2\u001b[39m) , (\u001b[39m22711.22\u001b[39m \u001b[39m-\u001b[39m\u001b[39m512\u001b[39m \u001b[39m/\u001b[39m \u001b[39m2\u001b[39m) ), level\u001b[39m=\u001b[39m\u001b[39m0\u001b[39m)\n\u001b[1;32m      8\u001b[0m region2 \u001b[39m=\u001b[39m img\u001b[39m.\u001b[39mread_region(size\u001b[39m=\u001b[39m(\u001b[39m512\u001b[39m, \u001b[39m512\u001b[39m), location\u001b[39m=\u001b[39m((\u001b[39m6040.96\u001b[39m \u001b[39m-\u001b[39m \u001b[39m512\u001b[39m \u001b[39m/\u001b[39m \u001b[39m2\u001b[39m) , (\u001b[39m23223.22\u001b[39m \u001b[39m-\u001b[39m\u001b[39m512\u001b[39m \u001b[39m/\u001b[39m \u001b[39m2\u001b[39m) ), level\u001b[39m=\u001b[39m\u001b[39m0\u001b[39m)\n",
      "\u001b[0;31mValueError\u001b[0m: Cannot open /home/sean/Documents/RCC-Data/Scans-QuPathProjekt-RCC(1Case)-10062021/RCC-TA-011.001.023~M.svs!"
     ]
    }
   ],
   "source": [
    "from cucim import CuImage\n",
    "import torch\n",
    "from torchvision.utils import make_grid\n",
    "\n",
    "\n",
    "img = CuImage(img_path)\n",
    "region = img.read_region(size=(512, 512), location=((6040.96 - 512 / 2) , (22711.22 -512 / 2) ), level=0)\n",
    "region2 = img.read_region(size=(512, 512), location=((6040.96 - 512 / 2) , (23223.22 -512 / 2) ), level=0)\n",
    "\n",
    "show(make_grid([torch.einsum(\"hwc -> chw\",torch.as_tensor(np.asarray(region))), torch.einsum(\"hwc -> chw\",torch.as_tensor(np.asarray(region2)))], nrow=1))\n",
    "\n",
    "region = img.read_region(size=(512, 512), location=((52632.96 - 512 / 2) , ( 4791.22 -512 / 2) ), level=0)\n",
    "region2 = img.read_region(size=(512, 512), location=((53144.96 - 512 / 2) , ( 4791.22 -512 / 2) ), level=0)\n",
    "\n",
    "show(make_grid([torch.einsum(\"hwc -> chw\",torch.as_tensor(np.asarray(region))), torch.einsum(\"hwc -> chw\",torch.as_tensor(np.asarray(region2)))], nrow=2))\n",
    "\n",
    "# Points have coords x, y ==  width, height, same as CuImage\n",
    "# sorted(valid_points, key=lambda pol: pol.y )\n"
   ]
  },
  {
   "cell_type": "code",
   "execution_count": null,
   "metadata": {},
   "outputs": [],
   "source": [
    "result  =   []\n",
    "for geometry_obj in list(shapes[\"Tissue\"].geoms):\n",
    "    # print(geometry_obj)\n",
    "    result.append(extract_poly_coords(geometry_obj))"
   ]
  },
  {
   "cell_type": "code",
   "execution_count": null,
   "metadata": {},
   "outputs": [
    {
     "name": "stdout",
     "output_type": "stream",
     "text": [
      "[<LINESTRING (5528.96 4279.22, 5528.96 92855.22)>, <LINESTRING (6040.96 4279.22, 6040.96 92855.22)>, <LINESTRING (6552.96 4279.22, 6552.96 92855.22)>, <LINESTRING (7064.96 4279.22, 7064.96 92855.22)>, <LINESTRING (7576.96 4279.22, 7576.96 92855.22)>, <LINESTRING (8088.96 4279.22, 8088.96 92855.22)>, <LINESTRING (8600.96 4279.22, 8600.96 92855.22)>, <LINESTRING (9112.96 4279.22, 9112.96 92855.22)>, <LINESTRING (9624.96 4279.22, 9624.96 92855.22)>, <LINESTRING (10136.96 4279.22, 10136.96 92855.22)>, <LINESTRING (10648.96 4279.22, 10648.96 92855.22)>, <LINESTRING (11160.96 4279.22, 11160.96 92855.22)>, <LINESTRING (11672.96 4279.22, 11672.96 92855.22)>, <LINESTRING (12184.96 4279.22, 12184.96 92855.22)>, <LINESTRING (12696.96 4279.22, 12696.96 92855.22)>, <LINESTRING (13208.96 4279.22, 13208.96 92855.22)>, <LINESTRING (13720.96 4279.22, 13720.96 92855.22)>, <LINESTRING (14232.96 4279.22, 14232.96 92855.22)>, <LINESTRING (14744.96 4279.22, 14744.96 92855.22)>, <LINESTRING (15256.96 4279.22, 15256.96 92855.22)>, <LINESTRING (15768.96 4279.22, 15768.96 92855.22)>, <LINESTRING (16280.96 4279.22, 16280.96 92855.22)>, <LINESTRING (16792.96 4279.22, 16792.96 92855.22)>, <LINESTRING (17304.96 4279.22, 17304.96 92855.22)>, <LINESTRING (17816.96 4279.22, 17816.96 92855.22)>, <LINESTRING (18328.96 4279.22, 18328.96 92855.22)>, <LINESTRING (18840.96 4279.22, 18840.96 92855.22)>, <LINESTRING (19352.96 4279.22, 19352.96 92855.22)>, <LINESTRING (19864.96 4279.22, 19864.96 92855.22)>, <LINESTRING (20376.96 4279.22, 20376.96 92855.22)>, <LINESTRING (20888.96 4279.22, 20888.96 92855.22)>, <LINESTRING (21400.96 4279.22, 21400.96 92855.22)>, <LINESTRING (21912.96 4279.22, 21912.96 92855.22)>, <LINESTRING (22424.96 4279.22, 22424.96 92855.22)>, <LINESTRING (22936.96 4279.22, 22936.96 92855.22)>, <LINESTRING (23448.96 4279.22, 23448.96 92855.22)>, <LINESTRING (23960.96 4279.22, 23960.96 92855.22)>, <LINESTRING (24472.96 4279.22, 24472.96 92855.22)>, <LINESTRING (24984.96 4279.22, 24984.96 92855.22)>, <LINESTRING (25496.96 4279.22, 25496.96 92855.22)>, <LINESTRING (26008.96 4279.22, 26008.96 92855.22)>, <LINESTRING (26520.96 4279.22, 26520.96 92855.22)>, <LINESTRING (27032.96 4279.22, 27032.96 92855.22)>, <LINESTRING (27544.96 4279.22, 27544.96 92855.22)>, <LINESTRING (28056.96 4279.22, 28056.96 92855.22)>, <LINESTRING (28568.96 4279.22, 28568.96 92855.22)>, <LINESTRING (29080.96 4279.22, 29080.96 92855.22)>, <LINESTRING (29592.96 4279.22, 29592.96 92855.22)>, <LINESTRING (30104.96 4279.22, 30104.96 92855.22)>, <LINESTRING (30616.96 4279.22, 30616.96 92855.22)>, <LINESTRING (31128.96 4279.22, 31128.96 92855.22)>, <LINESTRING (31640.96 4279.22, 31640.96 92855.22)>, <LINESTRING (32152.96 4279.22, 32152.96 92855.22)>, <LINESTRING (32664.96 4279.22, 32664.96 92855.22)>, <LINESTRING (33176.96 4279.22, 33176.96 92855.22)>, <LINESTRING (33688.96 4279.22, 33688.96 92855.22)>, <LINESTRING (34200.96 4279.22, 34200.96 92855.22)>, <LINESTRING (34712.96 4279.22, 34712.96 92855.22)>, <LINESTRING (35224.96 4279.22, 35224.96 92855.22)>, <LINESTRING (35736.96 4279.22, 35736.96 92855.22)>, <LINESTRING (36248.96 4279.22, 36248.96 92855.22)>, <LINESTRING (36760.96 4279.22, 36760.96 92855.22)>, <LINESTRING (37272.96 4279.22, 37272.96 92855.22)>, <LINESTRING (37784.96 4279.22, 37784.96 92855.22)>, <LINESTRING (38296.96 4279.22, 38296.96 92855.22)>, <LINESTRING (38808.96 4279.22, 38808.96 92855.22)>, <LINESTRING (39320.96 4279.22, 39320.96 92855.22)>, <LINESTRING (39832.96 4279.22, 39832.96 92855.22)>, <LINESTRING (40344.96 4279.22, 40344.96 92855.22)>, <LINESTRING (40856.96 4279.22, 40856.96 92855.22)>, <LINESTRING (41368.96 4279.22, 41368.96 92855.22)>, <LINESTRING (41880.96 4279.22, 41880.96 92855.22)>, <LINESTRING (42392.96 4279.22, 42392.96 92855.22)>, <LINESTRING (42904.96 4279.22, 42904.96 92855.22)>, <LINESTRING (43416.96 4279.22, 43416.96 92855.22)>, <LINESTRING (43928.96 4279.22, 43928.96 92855.22)>, <LINESTRING (44440.96 4279.22, 44440.96 92855.22)>, <LINESTRING (44952.96 4279.22, 44952.96 92855.22)>, <LINESTRING (45464.96 4279.22, 45464.96 92855.22)>, <LINESTRING (45976.96 4279.22, 45976.96 92855.22)>, <LINESTRING (46488.96 4279.22, 46488.96 92855.22)>, <LINESTRING (47000.96 4279.22, 47000.96 92855.22)>, <LINESTRING (47512.96 4279.22, 47512.96 92855.22)>, <LINESTRING (48024.96 4279.22, 48024.96 92855.22)>, <LINESTRING (48536.96 4279.22, 48536.96 92855.22)>, <LINESTRING (49048.96 4279.22, 49048.96 92855.22)>, <LINESTRING (49560.96 4279.22, 49560.96 92855.22)>, <LINESTRING (50072.96 4279.22, 50072.96 92855.22)>, <LINESTRING (50584.96 4279.22, 50584.96 92855.22)>, <LINESTRING (51096.96 4279.22, 51096.96 92855.22)>, <LINESTRING (51608.96 4279.22, 51608.96 92855.22)>, <LINESTRING (52120.96 4279.22, 52120.96 92855.22)>, <LINESTRING (52632.96 4279.22, 52632.96 92855.22)>, <LINESTRING (53144.96 4279.22, 53144.96 92855.22)>, <LINESTRING (53656.96 4279.22, 53656.96 92855.22)>, <LINESTRING (54168.96 4279.22, 54168.96 92855.22)>, <LINESTRING (54680.96 4279.22, 54680.96 92855.22)>, <LINESTRING (55192.96 4279.22, 55192.96 92855.22)>, <LINESTRING (55704.96 4279.22, 55704.96 92855.22)>, <LINESTRING (56216.96 4279.22, 56216.96 92855.22)>, <LINESTRING (56728.96 4279.22, 56728.96 92855.22)>, <LINESTRING (57240.96 4279.22, 57240.96 92855.22)>, <LINESTRING (57752.96 4279.22, 57752.96 92855.22)>, <LINESTRING (58264.96 4279.22, 58264.96 92855.22)>, <LINESTRING (58776.96 4279.22, 58776.96 92855.22)>, <LINESTRING (59288.96 4279.22, 59288.96 92855.22)>, <LINESTRING (59800.96 4279.22, 59800.96 92855.22)>, <LINESTRING (60312.96 4279.22, 60312.96 92855.22)>, <LINESTRING (60824.96 4279.22, 60824.96 92855.22)>, <LINESTRING (61336.96 4279.22, 61336.96 92855.22)>, <LINESTRING (61848.96 4279.22, 61848.96 92855.22)>, <LINESTRING (62360.96 4279.22, 62360.96 92855.22)>, <LINESTRING (62872.96 4279.22, 62872.96 92855.22)>, <LINESTRING (63384.96 4279.22, 63384.96 92855.22)>, <LINESTRING (63896.96 4279.22, 63896.96 92855.22)>, <LINESTRING (64408.96 4279.22, 64408.96 92855.22)>, <LINESTRING (64920.96 4279.22, 64920.96 92855.22)>, <LINESTRING (65432.96 4279.22, 65432.96 92855.22)>, <LINESTRING (65944.96 4279.22, 65944.96 92855.22)>, <LINESTRING (66456.96 4279.22, 66456.96 92855.22)>, <LINESTRING (66968.96 4279.22, 66968.96 92855.22)>, <LINESTRING (67480.96 4279.22, 67480.96 92855.22)>, <LINESTRING (67992.96 4279.22, 67992.96 92855.22)>, <LINESTRING (68504.96 4279.22, 68504.96 92855.22)>, <LINESTRING (69016.96 4279.22, 69016.96 92855.22)>, <LINESTRING (69528.96 4279.22, 69528.96 92855.22)>, <LINESTRING (70040.96 4279.22, 70040.96 92855.22)>, <LINESTRING (70552.96 4279.22, 70552.96 92855.22)>, <LINESTRING (71064.96 4279.22, 71064.96 92855.22)>, <LINESTRING (71576.96 4279.22, 71576.96 92855.22)>, <LINESTRING (72088.96 4279.22, 72088.96 92855.22)>, <LINESTRING (72600.96 4279.22, 72600.96 92855.22)>, <LINESTRING (73112.96 4279.22, 73112.96 92855.22)>, <LINESTRING (73624.96 4279.22, 73624.96 92855.22)>, <LINESTRING (74136.96 4279.22, 74136.96 92855.22)>, <LINESTRING (74648.96 4279.22, 74648.96 92855.22)>, <LINESTRING (75160.96 4279.22, 75160.96 92855.22)>, <LINESTRING (75672.96 4279.22, 75672.96 92855.22)>, <LINESTRING (76184.96 4279.22, 76184.96 92855.22)>, <LINESTRING (76696.96 4279.22, 76696.96 92855.22)>, <LINESTRING (77208.96 4279.22, 77208.96 92855.22)>, <LINESTRING (77720.96 4279.22, 77720.96 92855.22)>, <LINESTRING (78232.96 4279.22, 78232.96 92855.22)>, <LINESTRING (78744.96 4279.22, 78744.96 92855.22)>, <LINESTRING (79256.96 4279.22, 79256.96 92855.22)>, <LINESTRING (79768.96 4279.22, 79768.96 92855.22)>, <LINESTRING (80280.96 4279.22, 80280.96 92855.22)>, <LINESTRING (80792.96 4279.22, 80792.96 92855.22)>, <LINESTRING (81304.96 4279.22, 81304.96 92855.22)>, <LINESTRING (81816.96 4279.22, 81816.96 92855.22)>, <LINESTRING (82328.96 4279.22, 82328.96 92855.22)>, <LINESTRING (82840.96 4279.22, 82840.96 92855.22)>, <LINESTRING (83352.96 4279.22, 83352.96 92855.22)>, <LINESTRING (83864.96 4279.22, 83864.96 92855.22)>, <LINESTRING (84376.96 4279.22, 84376.96 92855.22)>, <LINESTRING (84888.96 4279.22, 84888.96 92855.22)>, <LINESTRING (85400.96 4279.22, 85400.96 92855.22)>, <LINESTRING (85912.96 4279.22, 85912.96 92855.22)>, <LINESTRING (86424.96 4279.22, 86424.96 92855.22)>, <LINESTRING (86936.96 4279.22, 86936.96 92855.22)>, <LINESTRING (87448.96 4279.22, 87448.96 92855.22)>, <LINESTRING (87960.96 4279.22, 87960.96 92855.22)>, <LINESTRING (88472.96 4279.22, 88472.96 92855.22)>, <LINESTRING (88984.96 4279.22, 88984.96 92855.22)>, <LINESTRING (89496.96 4279.22, 89496.96 92855.22)>, <LINESTRING (90008.96 4279.22, 90008.96 92855.22)>, <LINESTRING (90520.96 4279.22, 90520.96 92855.22)>, <LINESTRING (91032.96 4279.22, 91032.96 92855.22)>, <LINESTRING (91544.96 4279.22, 91544.96 92855.22)>, <LINESTRING (92056.96 4279.22, 92056.96 92855.22)>, <LINESTRING (92568.96 4279.22, 92568.96 92855.22)>, <LINESTRING (93080.96 4279.22, 93080.96 92855.22)>, <LINESTRING (93592.96 4279.22, 93592.96 92855.22)>, <LINESTRING (94104.96 4279.22, 94104.96 92855.22)>, <LINESTRING (94616.96 4279.22, 94616.96 92855.22)>, <LINESTRING (95128.96 4279.22, 95128.96 92855.22)>, <LINESTRING (95640.96 4279.22, 95640.96 92855.22)>, <LINESTRING (96152.96 4279.22, 96152.96 92855.22)>, <LINESTRING (96664.96 4279.22, 96664.96 92855.22)>, <LINESTRING (97176.96 4279.22, 97176.96 92855.22)>]\n",
      "[<LINESTRING (5528.96 4279.22, 97176.96 4279.22)>, <LINESTRING (5528.96 4791.22, 97176.96 4791.22)>, <LINESTRING (5528.96 5303.22, 97176.96 5303.22)>, <LINESTRING (5528.96 5815.22, 97176.96 5815.22)>, <LINESTRING (5528.96 6327.22, 97176.96 6327.22)>, <LINESTRING (5528.96 6839.22, 97176.96 6839.22)>, <LINESTRING (5528.96 7351.22, 97176.96 7351.22)>, <LINESTRING (5528.96 7863.22, 97176.96 7863.22)>, <LINESTRING (5528.96 8375.22, 97176.96 8375.22)>, <LINESTRING (5528.96 8887.22, 97176.96 8887.22)>, <LINESTRING (5528.96 9399.22, 97176.96 9399.22)>, <LINESTRING (5528.96 9911.22, 97176.96 9911.22)>, <LINESTRING (5528.96 10423.22, 97176.96 10423.22)>, <LINESTRING (5528.96 10935.22, 97176.96 10935.22)>, <LINESTRING (5528.96 11447.22, 97176.96 11447.22)>, <LINESTRING (5528.96 11959.22, 97176.96 11959.22)>, <LINESTRING (5528.96 12471.22, 97176.96 12471.22)>, <LINESTRING (5528.96 12983.22, 97176.96 12983.22)>, <LINESTRING (5528.96 13495.22, 97176.96 13495.22)>, <LINESTRING (5528.96 14007.22, 97176.96 14007.22)>, <LINESTRING (5528.96 14519.22, 97176.96 14519.22)>, <LINESTRING (5528.96 15031.22, 97176.96 15031.22)>, <LINESTRING (5528.96 15543.22, 97176.96 15543.22)>, <LINESTRING (5528.96 16055.22, 97176.96 16055.22)>, <LINESTRING (5528.96 16567.22, 97176.96 16567.22)>, <LINESTRING (5528.96 17079.22, 97176.96 17079.22)>, <LINESTRING (5528.96 17591.22, 97176.96 17591.22)>, <LINESTRING (5528.96 18103.22, 97176.96 18103.22)>, <LINESTRING (5528.96 18615.22, 97176.96 18615.22)>, <LINESTRING (5528.96 19127.22, 97176.96 19127.22)>, <LINESTRING (5528.96 19639.22, 97176.96 19639.22)>, <LINESTRING (5528.96 20151.22, 97176.96 20151.22)>, <LINESTRING (5528.96 20663.22, 97176.96 20663.22)>, <LINESTRING (5528.96 21175.22, 97176.96 21175.22)>, <LINESTRING (5528.96 21687.22, 97176.96 21687.22)>, <LINESTRING (5528.96 22199.22, 97176.96 22199.22)>, <LINESTRING (5528.96 22711.22, 97176.96 22711.22)>, <LINESTRING (5528.96 23223.22, 97176.96 23223.22)>, <LINESTRING (5528.96 23735.22, 97176.96 23735.22)>, <LINESTRING (5528.96 24247.22, 97176.96 24247.22)>, <LINESTRING (5528.96 24759.22, 97176.96 24759.22)>, <LINESTRING (5528.96 25271.22, 97176.96 25271.22)>, <LINESTRING (5528.96 25783.22, 97176.96 25783.22)>, <LINESTRING (5528.96 26295.22, 97176.96 26295.22)>, <LINESTRING (5528.96 26807.22, 97176.96 26807.22)>, <LINESTRING (5528.96 27319.22, 97176.96 27319.22)>, <LINESTRING (5528.96 27831.22, 97176.96 27831.22)>, <LINESTRING (5528.96 28343.22, 97176.96 28343.22)>, <LINESTRING (5528.96 28855.22, 97176.96 28855.22)>, <LINESTRING (5528.96 29367.22, 97176.96 29367.22)>, <LINESTRING (5528.96 29879.22, 97176.96 29879.22)>, <LINESTRING (5528.96 30391.22, 97176.96 30391.22)>, <LINESTRING (5528.96 30903.22, 97176.96 30903.22)>, <LINESTRING (5528.96 31415.22, 97176.96 31415.22)>, <LINESTRING (5528.96 31927.22, 97176.96 31927.22)>, <LINESTRING (5528.96 32439.22, 97176.96 32439.22)>, <LINESTRING (5528.96 32951.22, 97176.96 32951.22)>, <LINESTRING (5528.96 33463.22, 97176.96 33463.22)>, <LINESTRING (5528.96 33975.22, 97176.96 33975.22)>, <LINESTRING (5528.96 34487.22, 97176.96 34487.22)>, <LINESTRING (5528.96 34999.22, 97176.96 34999.22)>, <LINESTRING (5528.96 35511.22, 97176.96 35511.22)>, <LINESTRING (5528.96 36023.22, 97176.96 36023.22)>, <LINESTRING (5528.96 36535.22, 97176.96 36535.22)>, <LINESTRING (5528.96 37047.22, 97176.96 37047.22)>, <LINESTRING (5528.96 37559.22, 97176.96 37559.22)>, <LINESTRING (5528.96 38071.22, 97176.96 38071.22)>, <LINESTRING (5528.96 38583.22, 97176.96 38583.22)>, <LINESTRING (5528.96 39095.22, 97176.96 39095.22)>, <LINESTRING (5528.96 39607.22, 97176.96 39607.22)>, <LINESTRING (5528.96 40119.22, 97176.96 40119.22)>, <LINESTRING (5528.96 40631.22, 97176.96 40631.22)>, <LINESTRING (5528.96 41143.22, 97176.96 41143.22)>, <LINESTRING (5528.96 41655.22, 97176.96 41655.22)>, <LINESTRING (5528.96 42167.22, 97176.96 42167.22)>, <LINESTRING (5528.96 42679.22, 97176.96 42679.22)>, <LINESTRING (5528.96 43191.22, 97176.96 43191.22)>, <LINESTRING (5528.96 43703.22, 97176.96 43703.22)>, <LINESTRING (5528.96 44215.22, 97176.96 44215.22)>, <LINESTRING (5528.96 44727.22, 97176.96 44727.22)>, <LINESTRING (5528.96 45239.22, 97176.96 45239.22)>, <LINESTRING (5528.96 45751.22, 97176.96 45751.22)>, <LINESTRING (5528.96 46263.22, 97176.96 46263.22)>, <LINESTRING (5528.96 46775.22, 97176.96 46775.22)>, <LINESTRING (5528.96 47287.22, 97176.96 47287.22)>, <LINESTRING (5528.96 47799.22, 97176.96 47799.22)>, <LINESTRING (5528.96 48311.22, 97176.96 48311.22)>, <LINESTRING (5528.96 48823.22, 97176.96 48823.22)>, <LINESTRING (5528.96 49335.22, 97176.96 49335.22)>, <LINESTRING (5528.96 49847.22, 97176.96 49847.22)>, <LINESTRING (5528.96 50359.22, 97176.96 50359.22)>, <LINESTRING (5528.96 50871.22, 97176.96 50871.22)>, <LINESTRING (5528.96 51383.22, 97176.96 51383.22)>, <LINESTRING (5528.96 51895.22, 97176.96 51895.22)>, <LINESTRING (5528.96 52407.22, 97176.96 52407.22)>, <LINESTRING (5528.96 52919.22, 97176.96 52919.22)>, <LINESTRING (5528.96 53431.22, 97176.96 53431.22)>, <LINESTRING (5528.96 53943.22, 97176.96 53943.22)>, <LINESTRING (5528.96 54455.22, 97176.96 54455.22)>, <LINESTRING (5528.96 54967.22, 97176.96 54967.22)>, <LINESTRING (5528.96 55479.22, 97176.96 55479.22)>, <LINESTRING (5528.96 55991.22, 97176.96 55991.22)>, <LINESTRING (5528.96 56503.22, 97176.96 56503.22)>, <LINESTRING (5528.96 57015.22, 97176.96 57015.22)>, <LINESTRING (5528.96 57527.22, 97176.96 57527.22)>, <LINESTRING (5528.96 58039.22, 97176.96 58039.22)>, <LINESTRING (5528.96 58551.22, 97176.96 58551.22)>, <LINESTRING (5528.96 59063.22, 97176.96 59063.22)>, <LINESTRING (5528.96 59575.22, 97176.96 59575.22)>, <LINESTRING (5528.96 60087.22, 97176.96 60087.22)>, <LINESTRING (5528.96 60599.22, 97176.96 60599.22)>, <LINESTRING (5528.96 61111.22, 97176.96 61111.22)>, <LINESTRING (5528.96 61623.22, 97176.96 61623.22)>, <LINESTRING (5528.96 62135.22, 97176.96 62135.22)>, <LINESTRING (5528.96 62647.22, 97176.96 62647.22)>, <LINESTRING (5528.96 63159.22, 97176.96 63159.22)>, <LINESTRING (5528.96 63671.22, 97176.96 63671.22)>, <LINESTRING (5528.96 64183.22, 97176.96 64183.22)>, <LINESTRING (5528.96 64695.22, 97176.96 64695.22)>, <LINESTRING (5528.96 65207.22, 97176.96 65207.22)>, <LINESTRING (5528.96 65719.22, 97176.96 65719.22)>, <LINESTRING (5528.96 66231.22, 97176.96 66231.22)>, <LINESTRING (5528.96 66743.22, 97176.96 66743.22)>, <LINESTRING (5528.96 67255.22, 97176.96 67255.22)>, <LINESTRING (5528.96 67767.22, 97176.96 67767.22)>, <LINESTRING (5528.96 68279.22, 97176.96 68279.22)>, <LINESTRING (5528.96 68791.22, 97176.96 68791.22)>, <LINESTRING (5528.96 69303.22, 97176.96 69303.22)>, <LINESTRING (5528.96 69815.22, 97176.96 69815.22)>, <LINESTRING (5528.96 70327.22, 97176.96 70327.22)>, <LINESTRING (5528.96 70839.22, 97176.96 70839.22)>, <LINESTRING (5528.96 71351.22, 97176.96 71351.22)>, <LINESTRING (5528.96 71863.22, 97176.96 71863.22)>, <LINESTRING (5528.96 72375.22, 97176.96 72375.22)>, <LINESTRING (5528.96 72887.22, 97176.96 72887.22)>, <LINESTRING (5528.96 73399.22, 97176.96 73399.22)>, <LINESTRING (5528.96 73911.22, 97176.96 73911.22)>, <LINESTRING (5528.96 74423.22, 97176.96 74423.22)>, <LINESTRING (5528.96 74935.22, 97176.96 74935.22)>, <LINESTRING (5528.96 75447.22, 97176.96 75447.22)>, <LINESTRING (5528.96 75959.22, 97176.96 75959.22)>, <LINESTRING (5528.96 76471.22, 97176.96 76471.22)>, <LINESTRING (5528.96 76983.22, 97176.96 76983.22)>, <LINESTRING (5528.96 77495.22, 97176.96 77495.22)>, <LINESTRING (5528.96 78007.22, 97176.96 78007.22)>, <LINESTRING (5528.96 78519.22, 97176.96 78519.22)>, <LINESTRING (5528.96 79031.22, 97176.96 79031.22)>, <LINESTRING (5528.96 79543.22, 97176.96 79543.22)>, <LINESTRING (5528.96 80055.22, 97176.96 80055.22)>, <LINESTRING (5528.96 80567.22, 97176.96 80567.22)>, <LINESTRING (5528.96 81079.22, 97176.96 81079.22)>, <LINESTRING (5528.96 81591.22, 97176.96 81591.22)>, <LINESTRING (5528.96 82103.22, 97176.96 82103.22)>, <LINESTRING (5528.96 82615.22, 97176.96 82615.22)>, <LINESTRING (5528.96 83127.22, 97176.96 83127.22)>, <LINESTRING (5528.96 83639.22, 97176.96 83639.22)>, <LINESTRING (5528.96 84151.22, 97176.96 84151.22)>, <LINESTRING (5528.96 84663.22, 97176.96 84663.22)>, <LINESTRING (5528.96 85175.22, 97176.96 85175.22)>, <LINESTRING (5528.96 85687.22, 97176.96 85687.22)>, <LINESTRING (5528.96 86199.22, 97176.96 86199.22)>, <LINESTRING (5528.96 86711.22, 97176.96 86711.22)>, <LINESTRING (5528.96 87223.22, 97176.96 87223.22)>, <LINESTRING (5528.96 87735.22, 97176.96 87735.22)>, <LINESTRING (5528.96 88247.22, 97176.96 88247.22)>, <LINESTRING (5528.96 88759.22, 97176.96 88759.22)>, <LINESTRING (5528.96 89271.22, 97176.96 89271.22)>, <LINESTRING (5528.96 89783.22, 97176.96 89783.22)>, <LINESTRING (5528.96 90295.22, 97176.96 90295.22)>, <LINESTRING (5528.96 90807.22, 97176.96 90807.22)>, <LINESTRING (5528.96 91319.22, 97176.96 91319.22)>, <LINESTRING (5528.96 91831.22, 97176.96 91831.22)>, <LINESTRING (5528.96 92343.22, 97176.96 92343.22)>, <LINESTRING (5528.96 92855.22, 97176.96 92855.22)>]\n"
     ]
    }
   ],
   "source": [
    "biggest_poly = max(shapes[\"Tissue\"].geoms, key=lambda a: a.area)\n",
    "all_polys = sorted([a for a in shapes[\"Tissue\"].geoms], reverse=True, key=lambda x: x.area)\n",
    "\n",
    "tissues = [poly for poly in all_polys if poly.area > (biggest_poly.area // 2) ]\n",
    "\n",
    "\n",
    "result = [(get_squares_from_rect_faster(Polygon(tissue_poly.exterior.coords), side_length=512)) for tissue_poly in tissues]"
   ]
  },
  {
   "cell_type": "code",
   "execution_count": null,
   "metadata": {},
   "outputs": [
    {
     "data": {
      "text/plain": [
       "[(96664.96, 88759.22, 97176.96, 89271.22),\n",
       " (96664.96, 89271.22, 97176.96, 89783.22),\n",
       " (96664.96, 89783.22, 97176.96, 90295.22),\n",
       " (96664.96, 90295.22, 97176.96, 90807.22),\n",
       " (96664.96, 90807.22, 97176.96, 91319.22),\n",
       " (96664.96, 91319.22, 97176.96, 91831.22),\n",
       " (96664.96, 91831.22, 97176.96, 92343.22),\n",
       " (96664.96, 92343.22, 97176.96, 92855.22),\n",
       " (96736.88, 69815.22, 97176.96, 70327.22),\n",
       " (96912.32008859358, 70327.22, 97176.96, 70839.22),\n",
       " (96941.89858097983, 74935.22, 97176.96, 75447.22),\n",
       " (97063.32, 70839.22, 97176.96, 71351.22),\n",
       " (97132.05, 74171.38, 97176.96, 74423.22),\n",
       " (97150.09411307055, 74423.22, 97176.96, 74587.62613504076),\n",
       " (97171.339606326, 71351.22, 97176.96, 71384.4702263582),\n",
       " (97173.275, 74927.84999999998, 97176.96, 74935.22),\n",
       " (97176.96, 71384.4702263582, 97372.6, 74171.38),\n",
       " (97176.96, 74587.62613504076, 97183.6, 74703.99551654287),\n",
       " (97168.79, 74703.99551654287, 97176.96, 74718.69704676491),\n",
       " (97176.96, 74718.69704676491, 97228.93, 74927.84999999998)]"
      ]
     },
     "execution_count": 179,
     "metadata": {},
     "output_type": "execute_result"
    }
   ],
   "source": [
    "[a.bounds for a in result[0][-20:]]\n",
    "# TODO: check in qupath if this is roughly the last (bottom-right) pixel\n",
    "# (97176.96, 74718.69704676491, 97228.93, 74927.84999999998)\n"
   ]
  },
  {
   "cell_type": "code",
   "execution_count": null,
   "metadata": {},
   "outputs": [
    {
     "name": "stdout",
     "output_type": "stream",
     "text": [
      "(83523.28, 81899.02, 83830.42, 82017.16)\n",
      "POLYGON ((83813.24 81899.02, 83796.06 81916.19, 83744.51 81916.19, 83727.33 81933.38, 83710.14 81933.38, 83675.78 81967.74, 83624.24 81967.74, 83607.06 81984.92, 83572.7 81984.92, 83555.51 82002.11, 83538.33 82002.11, 83523.28 82017.16, 83695.1 81995.69, 83830.42 81911.11, 83830.42 81899.02, 83813.24 81899.02))\n",
      "[<LINESTRING (83523.28 81899.02, 83523.28 81899.02)>]\n",
      "[<LINESTRING (83523.28 81899.02, 83523.28 81899.02)>]\n"
     ]
    },
    {
     "ename": "ValueError",
     "evalue": "Cannot linemerge LINESTRING (83813.24 81899.02, 83796.06 81916.19, 83744.51 81916.19, 83727.33 81933.38, 83710.14 81933.38, 83675.78 81967.74, 83624.24 81967.74, 83607.06 81984.92, 83572.7 81984.92, 83555.51 82002.11, 83538.33 82002.11, 83523.28 82017.16, 83695.1 81995.69, 83830.42 81911.11, 83830.42 81899.02, 83813.24 81899.02)",
     "output_type": "error",
     "traceback": [
      "\u001b[0;31m---------------------------------------------------------------------------\u001b[0m",
      "\u001b[0;31mValueError\u001b[0m                                Traceback (most recent call last)",
      "Cell \u001b[0;32mIn[139], line 9\u001b[0m\n\u001b[1;32m      7\u001b[0m polygon, exterior \u001b[39m=\u001b[39m Polygon(polygon[\u001b[39m\"\u001b[39m\u001b[39mexterior_coords\u001b[39m\u001b[39m\"\u001b[39m]), polygon[\u001b[39m\"\u001b[39m\u001b[39minterior_coords\u001b[39m\u001b[39m\"\u001b[39m]\n\u001b[1;32m      8\u001b[0m \u001b[39mprint\u001b[39m(polygon)\n\u001b[0;32m----> 9\u001b[0m polygons\u001b[39m.\u001b[39mappend(get_squares_from_rect_faster(polygon, side_length\u001b[39m=\u001b[39;49m\u001b[39m512\u001b[39;49m))\n",
      "Cell \u001b[0;32mIn[115], line 47\u001b[0m, in \u001b[0;36mget_squares_from_rect_faster\u001b[0;34m(RectangularPolygon, side_length)\u001b[0m\n\u001b[1;32m     45\u001b[0m lines \u001b[39m=\u001b[39m unary_union(lines)\n\u001b[1;32m     46\u001b[0m \u001b[39m# print(lines)\u001b[39;00m\n\u001b[0;32m---> 47\u001b[0m lines \u001b[39m=\u001b[39m linemerge(lines)\n\u001b[1;32m     49\u001b[0m \u001b[39m# print(lines)\u001b[39;00m\n\u001b[1;32m     50\u001b[0m \u001b[39mreturn\u001b[39;00m \u001b[39mlist\u001b[39m(polygonize(lines))\n",
      "File \u001b[0;32m~/micromamba/envs/thesis/lib/python3.10/site-packages/shapely/ops.py:112\u001b[0m, in \u001b[0;36mCollectionOperator.linemerge\u001b[0;34m(self, lines, directed)\u001b[0m\n\u001b[1;32m    110\u001b[0m         source \u001b[39m=\u001b[39m MultiLineString(lines)\n\u001b[1;32m    111\u001b[0m \u001b[39mif\u001b[39;00m source \u001b[39mis\u001b[39;00m \u001b[39mNone\u001b[39;00m:\n\u001b[0;32m--> 112\u001b[0m     \u001b[39mraise\u001b[39;00m \u001b[39mValueError\u001b[39;00m(\u001b[39mf\u001b[39m\u001b[39m\"\u001b[39m\u001b[39mCannot linemerge \u001b[39m\u001b[39m{\u001b[39;00mlines\u001b[39m}\u001b[39;00m\u001b[39m\"\u001b[39m)\n\u001b[1;32m    113\u001b[0m \u001b[39mreturn\u001b[39;00m shapely\u001b[39m.\u001b[39mline_merge(source, directed\u001b[39m=\u001b[39mdirected)\n",
      "\u001b[0;31mValueError\u001b[0m: Cannot linemerge LINESTRING (83813.24 81899.02, 83796.06 81916.19, 83744.51 81916.19, 83727.33 81933.38, 83710.14 81933.38, 83675.78 81967.74, 83624.24 81967.74, 83607.06 81984.92, 83572.7 81984.92, 83555.51 82002.11, 83538.33 82002.11, 83523.28 82017.16, 83695.1 81995.69, 83830.42 81911.11, 83830.42 81899.02, 83813.24 81899.02)"
     ]
    }
   ],
   "source": [
    "from shapely.geometry import Polygon\n",
    "\n",
    "polygons = []\n",
    "for polygon in list(shapes[\"Tissue\"].geoms):\n",
    "    print(polygon.bounds)\n",
    "    polygon = extract_poly_coords(polygon)\n",
    "    polygon, exterior = Polygon(polygon[\"exterior_coords\"]), polygon[\"interior_coords\"]\n",
    "    print(polygon)\n",
    "    polygons.append(get_squares_from_rect_faster(polygon, side_length=512))"
   ]
  },
  {
   "cell_type": "code",
   "execution_count": null,
   "metadata": {},
   "outputs": [
    {
     "name": "stdout",
     "output_type": "stream",
     "text": [
      "(412, 512)\n"
     ]
    },
    {
     "data": {
      "text/plain": [
       "(512, 412)"
      ]
     },
     "execution_count": 9,
     "metadata": {},
     "output_type": "execute_result"
    }
   ],
   "source": [
    "import pyvips\n",
    "\n",
    "path = \"/data2/projects/DigiStrudMed_sklein/sample-case/Scans-fuer-QupathProjekt-RCC-3Faelle-10062021/RCC-TA-011.001.023~M-Tissue.tif\"\n",
    "img = pyvips.Image.tiffload(path).crop(0,0, 412, 512)\n",
    "shape = img.width, img.height\n",
    "print(shape)\n",
    "img.numpy().shape"
   ]
  }
 ],
 "metadata": {
  "kernelspec": {
   "display_name": ".venv",
   "language": "python",
   "name": "python3"
  },
  "language_info": {
   "codemirror_mode": {
    "name": "ipython",
    "version": 3
   },
   "file_extension": ".py",
   "mimetype": "text/x-python",
   "name": "python",
   "nbconvert_exporter": "python",
   "pygments_lexer": "ipython3",
   "version": "3.10.9"
  },
  "orig_nbformat": 4,
  "vscode": {
   "interpreter": {
    "hash": "ffe1bc08cc4241058275da9ed65aee51e28bffb6b7c64820239b826de376a04e"
   }
  }
 },
 "nbformat": 4,
 "nbformat_minor": 2
}
