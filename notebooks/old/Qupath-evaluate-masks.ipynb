{
 "cells": [
  {
   "cell_type": "code",
   "execution_count": 12,
   "metadata": {},
   "outputs": [
    {
     "name": "stdout",
     "output_type": "stream",
     "text": [
      "\n",
      "/home/sklein/Thesis/DigiStrudMed_sklein/test_annotations/RCC-TA-011.001.023~M-Tissue_multiChannel.ome.tif <class 'str'>\n",
      "==========================================\n",
      "1\n",
      "OpenSlide('/home/sklein/Thesis/DigiStrudMed_sklein/test_annotations/RCC-TA-011.001.023~M-Tissue_multiChannel.ome.tif')\n",
      "\n",
      "/home/sklein/Thesis/DigiStrudMed_sklein/test_annotations/RCC-TA-011.001.023~M-Tissue_singleChannel.ome.tif <class 'str'>\n",
      "==========================================\n",
      "1\n",
      "OpenSlide('/home/sklein/Thesis/DigiStrudMed_sklein/test_annotations/RCC-TA-011.001.023~M-Tissue_singleChannel.ome.tif')\n",
      "\n",
      "/home/sklein/Thesis/DigiStrudMed_sklein/test_annotations/RCC-TA-011.001.023~M-Full_multiChannel.ome.tif <class 'str'>\n",
      "==========================================\n",
      "1\n",
      "OpenSlide('/home/sklein/Thesis/DigiStrudMed_sklein/test_annotations/RCC-TA-011.001.023~M-Full_multiChannel.ome.tif')\n",
      "\n",
      "/home/sklein/Thesis/DigiStrudMed_sklein/test_annotations/RCC-TA-011.001.023~M-Full_singleChannel.ome.tif <class 'str'>\n",
      "==========================================\n",
      "1\n",
      "OpenSlide('/home/sklein/Thesis/DigiStrudMed_sklein/test_annotations/RCC-TA-011.001.023~M-Full_singleChannel.ome.tif')\n"
     ]
    },
    {
     "name": "stderr",
     "output_type": "stream",
     "text": [
      "TIFFReadDirectory: Warning, Incorrect count for \"ColorMap\"; tag ignored.\n",
      "TIFFReadDirectory: Warning, Incorrect count for \"ColorMap\"; tag ignored.\n"
     ]
    }
   ],
   "source": [
    "import os\n",
    "from cucim import CuImage\n",
    "from monai.transforms import LoadImaged, LoadImage\n",
    "from monai.data.image_reader import WSIReader         \n",
    "import openslide\n",
    "from matplotlib import pyplot as plt\n",
    "import numpy as np\n",
    "\n",
    "\n",
    "base_path: str = '/home/sklein/Thesis/DigiStrudMed_sklein/test_annotations/'\n",
    "for tiff_file in os.listdir(base_path):\n",
    "    if tiff_file.startswith('RCC-TA-011.001.023~M'):\n",
    "        tiff_file = base_path + tiff_file\n",
    "        print()\n",
    "        print(f'{tiff_file} {type(tiff_file)}')\n",
    "        print('==========================================')\n",
    "        try:\n",
    "            img = CuImage(tiff_file)\n",
    "            print(img.metadata[\"cucim\"][\"resolutions\"][\"level_count\"])\n",
    "            mask = np.asarray(img)\n",
    "            print(mask)\n",
    "        except Exception as e:\n",
    "            print('cucim failed')\n",
    "            print(e)\n",
    "        # try:\n",
    "        #     # monai.transforms.LoadImage(backend='cucim')(tiff_file)\n",
    "        #     transform = LoadImage(reader=WSIReader, backend='cucim', level=3)\n",
    "        #     image, _ = transform(tiff_file)\n",
    "        # except Exception as e:\n",
    "        #     print('monai backend cucim failed')\n",
    "        #     print(e)\n",
    "        # try:\n",
    "        #     reader = WSIReader(backend='cuCIM')\n",
    "        #     img_obj = reader.read(data=filename)\n",
    "        # except Exception as e:\n",
    "        #     print('monai backend openslide failed')\n",
    "        #     print(e)\n",
    "        try:\n",
    "            img = openslide.OpenSlide(tiff_file)\n",
    "            mask = np.asarray(img)\n",
    "            print(img. level_count)\n",
    "            print(mask)\n",
    "        except Exception as e:\n",
    "            print('openslide  failed')\n",
    "            print(e)\n",
    "        # print('==========================================')"
   ]
  },
  {
   "cell_type": "code",
   "execution_count": 7,
   "metadata": {},
   "outputs": [
    {
     "name": "stderr",
     "output_type": "stream",
     "text": [
      "<class 'monai.data.image_reader.WSIReader'>: Class `WSIReader` has been deprecated since version 0.8. use `monai.wsi_reader.WSIReader` instead.\n"
     ]
    },
    {
     "ename": "TypeError",
     "evalue": "__init__(): incompatible constructor arguments. The following argument types are supported:\n    1. cucim.clara._cucim.CuImage(path: str)\n\nInvoked with: '/data2/projects/DigiStrudMed_sklein/DigiStrucMed_Braesen/RCCs_041_CD8_CD20_svs/RCC-TA-001.041~B.svs'; kwargs: device='cuda'",
     "output_type": "error",
     "traceback": [
      "\u001b[0;31m---------------------------------------------------------------------------\u001b[0m",
      "\u001b[0;31mTypeError\u001b[0m                                 Traceback (most recent call last)",
      "Cell \u001b[0;32mIn[7], line 8\u001b[0m\n\u001b[1;32m      4\u001b[0m filename: \u001b[39mstr\u001b[39m \u001b[39m=\u001b[39m \u001b[39m'\u001b[39m\u001b[39m/data2/projects/DigiStrudMed_sklein/DigiStrucMed_Braesen/RCCs_041_CD8_CD20_svs/RCC-TA-001.041~B.svs\u001b[39m\u001b[39m'\u001b[39m\n\u001b[1;32m      6\u001b[0m reader \u001b[39m=\u001b[39m WSIReader(backend\u001b[39m=\u001b[39m\u001b[39m'\u001b[39m\u001b[39mcuCIM\u001b[39m\u001b[39m'\u001b[39m, device\u001b[39m=\u001b[39m\u001b[39m'\u001b[39m\u001b[39mcuda\u001b[39m\u001b[39m'\u001b[39m)\n\u001b[0;32m----> 8\u001b[0m img_obj \u001b[39m=\u001b[39m reader\u001b[39m.\u001b[39;49mread(data\u001b[39m=\u001b[39;49mfilename)\n\u001b[1;32m      9\u001b[0m \u001b[39mprint\u001b[39m(img_obj)\n\u001b[1;32m     10\u001b[0m \u001b[39mprint\u001b[39m(img_obj\u001b[39m.\u001b[39mdevice)\n",
      "File \u001b[0;32m~/mambaforge/envs/sklein-thesis/lib/python3.9/site-packages/monai/data/image_reader.py:1306\u001b[0m, in \u001b[0;36mWSIReader.read\u001b[0;34m(self, data, **kwargs)\u001b[0m\n\u001b[1;32m   1304\u001b[0m kwargs_\u001b[39m.\u001b[39mupdate(kwargs)\n\u001b[1;32m   1305\u001b[0m \u001b[39mfor\u001b[39;00m name \u001b[39min\u001b[39;00m filenames:\n\u001b[0;32m-> 1306\u001b[0m     img \u001b[39m=\u001b[39m \u001b[39mself\u001b[39;49m\u001b[39m.\u001b[39;49mwsi_reader(name, \u001b[39m*\u001b[39;49m\u001b[39m*\u001b[39;49mkwargs_)\n\u001b[1;32m   1307\u001b[0m     \u001b[39mif\u001b[39;00m \u001b[39mself\u001b[39m\u001b[39m.\u001b[39mbackend \u001b[39m==\u001b[39m \u001b[39m\"\u001b[39m\u001b[39mopenslide\u001b[39m\u001b[39m\"\u001b[39m:\n\u001b[1;32m   1308\u001b[0m         img\u001b[39m.\u001b[39mshape \u001b[39m=\u001b[39m (img\u001b[39m.\u001b[39mdimensions[\u001b[39m1\u001b[39m], img\u001b[39m.\u001b[39mdimensions[\u001b[39m0\u001b[39m], \u001b[39m3\u001b[39m)\n",
      "\u001b[0;31mTypeError\u001b[0m: __init__(): incompatible constructor arguments. The following argument types are supported:\n    1. cucim.clara._cucim.CuImage(path: str)\n\nInvoked with: '/data2/projects/DigiStrudMed_sklein/DigiStrucMed_Braesen/RCCs_041_CD8_CD20_svs/RCC-TA-001.041~B.svs'; kwargs: device='cuda'"
     ]
    }
   ],
   "source": [
    "# transform = LoadImage(reader=WSIReader, backend='openslide', level=0)\n",
    "\n",
    "\n",
    "filename: str = '/data2/projects/DigiStrudMed_sklein/DigiStrucMed_Braesen/RCCs_041_CD8_CD20_svs/RCC-TA-001.041~B.svs'\n",
    "\n",
    "reader = WSIReader(backend='cuCIM', device='cuda')\n",
    "\n",
    "img_obj = reader.read(data=filename)\n",
    "print(img_obj)\n",
    "print(img_obj.device)\n",
    "img_data, meta_data = reader.get_data(img_obj, level=3)\n",
    "print(type(img_data), img_data.shape)"
   ]
  }
 ],
 "metadata": {
  "kernelspec": {
   "display_name": "Python 3.9.15 ('sklein-thesis')",
   "language": "python",
   "name": "python3"
  },
  "language_info": {
   "codemirror_mode": {
    "name": "ipython",
    "version": 3
   },
   "file_extension": ".py",
   "mimetype": "text/x-python",
   "name": "python",
   "nbconvert_exporter": "python",
   "pygments_lexer": "ipython3",
   "version": "3.9.15"
  },
  "orig_nbformat": 4,
  "vscode": {
   "interpreter": {
    "hash": "257fed8712934e548d7ce0df97abe7f90a471692d2f96c3dff72e56e14bc9151"
   }
  }
 },
 "nbformat": 4,
 "nbformat_minor": 2
}
