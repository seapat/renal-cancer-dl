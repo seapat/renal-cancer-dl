{
 "cells": [
  {
   "cell_type": "code",
   "execution_count": 1,
   "metadata": {},
   "outputs": [],
   "source": [
    "import os\n",
    "import sys\n",
    "from glob import glob\n",
    "\n",
    "# compat\n",
    "sys.path.append(\"../src/\")\n",
    "\n",
    "from geojson_processing import geojson_to_mask\n",
    "import numpy as np\n",
    "import time\n",
    "\n",
    "annos_of_interest: list[str] = [\n",
    "        \"Tissue\",\n",
    "        \"Tumor_vital\",\n",
    "        \"diffuse_tumor_growth_in_soft_tissue\",\n",
    "        \"Angioinvasion\",\n",
    "        \"Tumor_necrosis\",\n",
    "        \"Tumor_regression\",\n",
    "    ]\n",
    "base_path = \"/data2/projects/DigiStrudMed_sklein/DigiStrucMed_Braesen/all_data/RCC-TA-038.016flipped\"\n"
   ]
  },
  {
   "cell_type": "code",
   "execution_count": 2,
   "metadata": {},
   "outputs": [
    {
     "name": "stderr",
     "output_type": "stream",
     "text": [
      "DEBUG:rasterio.env:Entering env context: <rasterio.env.Env object at 0x7f694ae03d60>\n",
      "DEBUG:rasterio.env:Starting outermost env\n",
      "DEBUG:rasterio.env:No GDAL environment exists\n",
      "DEBUG:rasterio.env:New GDAL environment <rasterio._env.GDALEnv object at 0x7f690e101870> created\n",
      "DEBUG:rasterio._filepath:Installing FilePath filesystem handler plugin...\n",
      "DEBUG:rasterio._env:GDAL_DATA found in environment.\n",
      "DEBUG:rasterio._env:PROJ_DATA found in environment.\n",
      "DEBUG:rasterio._env:Started GDALEnv: self=<rasterio._env.GDALEnv object at 0x7f690e101870>.\n",
      "DEBUG:rasterio.env:Entered env context: <rasterio.env.Env object at 0x7f694ae03d60>\n",
      "DEBUG:rasterio._io:Path: _UnparsedPath(path='MEM:::DATAPOINTER=140079921475600,PIXELS=90599,LINES=80376,BANDS=1,DATATYPE=Byte'), mode: r+, driver: None\n",
      "DEBUG:rasterio._base:Nodata success: 0, Nodata value: 0.000000\n",
      "DEBUG:rasterio.env:Exiting env context: <rasterio.env.Env object at 0x7f694ae03d60>\n",
      "DEBUG:rasterio.env:Cleared existing <rasterio._env.GDALEnv object at 0x7f690e101870> options\n",
      "DEBUG:rasterio._env:Stopped GDALEnv <rasterio._env.GDALEnv object at 0x7f690e101870>.\n",
      "DEBUG:rasterio.env:Exiting outermost env\n",
      "DEBUG:rasterio.env:Exited env context: <rasterio.env.Env object at 0x7f694ae03d60>\n",
      "DEBUG:rasterio.env:Entering env context: <rasterio.env.Env object at 0x7f68b66c1c30>\n",
      "DEBUG:rasterio.env:Starting outermost env\n",
      "DEBUG:rasterio.env:No GDAL environment exists\n",
      "DEBUG:rasterio.env:New GDAL environment <rasterio._env.GDALEnv object at 0x7f694ae03370> created\n",
      "DEBUG:rasterio._env:GDAL_DATA found in environment.\n",
      "DEBUG:rasterio._env:PROJ_DATA found in environment.\n",
      "DEBUG:rasterio._env:Started GDALEnv: self=<rasterio._env.GDALEnv object at 0x7f694ae03370>.\n",
      "DEBUG:rasterio.env:Entered env context: <rasterio.env.Env object at 0x7f68b66c1c30>\n",
      "DEBUG:rasterio._io:Path: _UnparsedPath(path='MEM:::DATAPOINTER=140072639488016,PIXELS=90599,LINES=80376,BANDS=1,DATATYPE=Byte'), mode: r+, driver: None\n",
      "DEBUG:rasterio._base:Nodata success: 0, Nodata value: 0.000000\n",
      "DEBUG:rasterio.env:Exiting env context: <rasterio.env.Env object at 0x7f68b66c1c30>\n",
      "DEBUG:rasterio.env:Cleared existing <rasterio._env.GDALEnv object at 0x7f694ae03370> options\n",
      "DEBUG:rasterio._env:Stopped GDALEnv <rasterio._env.GDALEnv object at 0x7f694ae03370>.\n",
      "DEBUG:rasterio.env:Exiting outermost env\n",
      "DEBUG:rasterio.env:Exited env context: <rasterio.env.Env object at 0x7f68b66c1c30>\n",
      "DEBUG:rasterio.env:Entering env context: <rasterio.env.Env object at 0x7f68b66c1c30>\n",
      "DEBUG:rasterio.env:Starting outermost env\n",
      "DEBUG:rasterio.env:No GDAL environment exists\n",
      "DEBUG:rasterio.env:New GDAL environment <rasterio._env.GDALEnv object at 0x7f694ae03370> created\n",
      "DEBUG:rasterio._env:GDAL_DATA found in environment.\n",
      "DEBUG:rasterio._env:PROJ_DATA found in environment.\n",
      "DEBUG:rasterio._env:Started GDALEnv: self=<rasterio._env.GDALEnv object at 0x7f694ae03370>.\n",
      "DEBUG:rasterio.env:Entered env context: <rasterio.env.Env object at 0x7f68b66c1c30>\n",
      "DEBUG:rasterio._io:Path: _UnparsedPath(path='MEM:::DATAPOINTER=140065357500432,PIXELS=90599,LINES=80376,BANDS=1,DATATYPE=Byte'), mode: r+, driver: None\n",
      "DEBUG:rasterio._base:Nodata success: 0, Nodata value: 0.000000\n",
      "DEBUG:rasterio.env:Exiting env context: <rasterio.env.Env object at 0x7f68b66c1c30>\n",
      "DEBUG:rasterio.env:Cleared existing <rasterio._env.GDALEnv object at 0x7f694ae03370> options\n",
      "DEBUG:rasterio._env:Stopped GDALEnv <rasterio._env.GDALEnv object at 0x7f694ae03370>.\n",
      "DEBUG:rasterio.env:Exiting outermost env\n",
      "DEBUG:rasterio.env:Exited env context: <rasterio.env.Env object at 0x7f68b66c1c30>\n",
      "DEBUG:rasterio.env:Entering env context: <rasterio.env.Env object at 0x7f68b66c1c30>\n",
      "DEBUG:rasterio.env:Starting outermost env\n",
      "DEBUG:rasterio.env:No GDAL environment exists\n",
      "DEBUG:rasterio.env:New GDAL environment <rasterio._env.GDALEnv object at 0x7f694ae03370> created\n",
      "DEBUG:rasterio._env:GDAL_DATA found in environment.\n",
      "DEBUG:rasterio._env:PROJ_DATA found in environment.\n",
      "DEBUG:rasterio._env:Started GDALEnv: self=<rasterio._env.GDALEnv object at 0x7f694ae03370>.\n",
      "DEBUG:rasterio.env:Entered env context: <rasterio.env.Env object at 0x7f68b66c1c30>\n",
      "DEBUG:rasterio._io:Path: _UnparsedPath(path='MEM:::DATAPOINTER=140058075512848,PIXELS=90599,LINES=80376,BANDS=1,DATATYPE=Byte'), mode: r+, driver: None\n",
      "DEBUG:rasterio._base:Nodata success: 0, Nodata value: 0.000000\n",
      "DEBUG:rasterio.env:Exiting env context: <rasterio.env.Env object at 0x7f68b66c1c30>\n",
      "DEBUG:rasterio.env:Cleared existing <rasterio._env.GDALEnv object at 0x7f694ae03370> options\n",
      "DEBUG:rasterio._env:Stopped GDALEnv <rasterio._env.GDALEnv object at 0x7f694ae03370>.\n",
      "DEBUG:rasterio.env:Exiting outermost env\n",
      "DEBUG:rasterio.env:Exited env context: <rasterio.env.Env object at 0x7f68b66c1c30>\n"
     ]
    }
   ],
   "source": [
    "from cucim import CuImage\n",
    "\n",
    "hxw = CuImage(base_path + \".svs\")\n",
    "# generate mask from geojson\n",
    "gt_arr = geojson_to_mask(base_path+\".json\", annos_of_interest, hxw.shape[:2])[\"Tissue\"]"
   ]
  },
  {
   "cell_type": "code",
   "execution_count": 8,
   "metadata": {},
   "outputs": [
    {
     "name": "stderr",
     "output_type": "stream",
     "text": [
      "DEBUG:pyvips:Loaded binary module _libvips\n",
      "DEBUG:pyvips:Module generated for libvips 8.13\n",
      "DEBUG:pyvips:Linked to libvips 8.13\n",
      "DEBUG:pyvips:Inited libvips\n",
      "DEBUG:pyvips.voperation:VipsOperation.call: operation_name = tiffload\n",
      "DEBUG:pyvips.voperation:VipsOperation.call: match_image = None\n",
      "DEBUG:pyvips.vobject:VipsObject.set: name = filename, value = /data2/projects/DigiStrudMed_sklein/DigiStrucMed_Braesen/all_data/RCC-TA-038.016flipped-Tissue.tif\n",
      "DEBUG:pyvips.vobject:VipsObject.set: name = page, value = 0\n",
      "DEBUG:pyvips.vobject:VipsObject.get: name = out\n",
      "DEBUG:pyvips.vobject:VipsObject.get: name = interpretation\n",
      "DEBUG:pyvips.vobject:VipsObject.get: name = width\n",
      "DEBUG:pyvips.vobject:VipsObject.get: name = height\n",
      "DEBUG:pyvips.vobject:VipsObject.get: name = format\n",
      "DEBUG:pyvips.vobject:VipsObject.get: name = bands\n",
      "DEBUG:pyvips.vobject:VipsObject.get: name = interpretation\n",
      "DEBUG:pyvips.voperation:VipsOperation.call: result = <pyvips.Image 90599x80376 uchar, 1 bands, b-w>\n"
     ]
    }
   ],
   "source": [
    "import pyvips\n",
    "start = time.time()\n",
    "vips_img = pyvips.Image.tiffload(base_path+\"-Tissue.tif\", page=0)\n",
    "vips_arr = vips_img.numpy()\n",
    "print(time.time() - start)\n",
    "print(np.equal(gt_arr, vips_arr).all())\n",
    "\n",
    "start = time.time()\n",
    "vips_img_at_1 = pyvips.Image.tiffload(base_path+\"-Tissue.tif\", page=1)\n",
    "vips_arr = vips_img.numpy()\n",
    "print(time.time() - start)\n"
   ]
  },
  {
   "cell_type": "code",
   "execution_count": 3,
   "metadata": {},
   "outputs": [
    {
     "name": "stderr",
     "output_type": "stream",
     "text": [
      "DEBUG:numcodecs:Registering codec 'zlib'\n",
      "DEBUG:numcodecs:Registering codec 'gzip'\n",
      "DEBUG:numcodecs:Registering codec 'bz2'\n",
      "DEBUG:numcodecs:Registering codec 'lzma'\n",
      "DEBUG:numcodecs:Registering codec 'blosc'\n",
      "DEBUG:numcodecs:Registering codec 'zstd'\n",
      "DEBUG:numcodecs:Registering codec 'lz4'\n",
      "DEBUG:numcodecs:Registering codec 'astype'\n",
      "DEBUG:numcodecs:Registering codec 'delta'\n",
      "DEBUG:numcodecs:Registering codec 'quantize'\n",
      "DEBUG:numcodecs:Registering codec 'fixedscaleoffset'\n",
      "DEBUG:numcodecs:Registering codec 'packbits'\n",
      "DEBUG:numcodecs:Registering codec 'categorize'\n",
      "DEBUG:numcodecs:Registering codec 'pickle'\n",
      "DEBUG:numcodecs:Registering codec 'base64'\n",
      "DEBUG:numcodecs:Registering codec 'shuffle'\n",
      "DEBUG:numcodecs:Registering codec 'bitround'\n",
      "DEBUG:numcodecs:Registering codec 'msgpack2'\n",
      "DEBUG:numcodecs:Registering codec 'crc32'\n",
      "DEBUG:numcodecs:Registering codec 'adler32'\n",
      "DEBUG:numcodecs:Registering codec 'json2'\n",
      "DEBUG:numcodecs:Registering codec 'vlen-utf8'\n",
      "DEBUG:numcodecs:Registering codec 'vlen-bytes'\n",
      "DEBUG:numcodecs:Registering codec 'vlen-array'\n",
      "DEBUG:numcodecs:Registering codec 'n5_wrapper'\n"
     ]
    },
    {
     "name": "stdout",
     "output_type": "stream",
     "text": [
      "44.80091881752014\n",
      "3.2311997413635254\n"
     ]
    }
   ],
   "source": [
    "import tifffile\n",
    "import zarr\n",
    "\n",
    "start = time.time()\n",
    "tf_img = tifffile.imread(base_path+\".svs\",  series=0, level=0) # series arg needed?\n",
    "print(time.time() - start)\n",
    "\n",
    "start = time.time()\n",
    "tf_img_at_1 = tifffile.imread(base_path+\".svs\",  series=0, level=1) # series arg needed?\n",
    "print(time.time() - start)\n",
    "\n",
    "\n"
   ]
  },
  {
   "cell_type": "code",
   "execution_count": 32,
   "metadata": {},
   "outputs": [
    {
     "name": "stdout",
     "output_type": "stream",
     "text": [
      "<zarr.core.Array '/0' (80376, 90599, 3) uint8 read-only>\n"
     ]
    }
   ],
   "source": [
    "store = tifffile.imread(base_path+\".svs\", aszarr=True) \n",
    "z = zarr.open(store, mode='r')\n",
    "print(z[0])\n",
    "\n",
    "location = (300, 400)\n",
    "size = (512,512)\n",
    "\n",
    "\n",
    "region: np.ndarray = np.asarray(z[0][location[0]:location[0] + size[0], location[1]:location[1] + size[1]]) # I think we need to remove the 2\n",
    "\n",
    "store.close()"
   ]
  },
  {
   "cell_type": "code",
   "execution_count": 33,
   "metadata": {},
   "outputs": [
    {
     "data": {
      "text/plain": [
       "tifffile.tifffile.ZarrTiffStore"
      ]
     },
     "execution_count": 33,
     "metadata": {},
     "output_type": "execute_result"
    }
   ],
   "source": [
    "type(store)"
   ]
  },
  {
   "cell_type": "code",
   "execution_count": 36,
   "metadata": {},
   "outputs": [
    {
     "data": {
      "text/plain": [
       "['_MutableMapping__marker',\n",
       " '__abstractmethods__',\n",
       " '__annotations__',\n",
       " '__class__',\n",
       " '__class_getitem__',\n",
       " '__contains__',\n",
       " '__del__',\n",
       " '__delattr__',\n",
       " '__delitem__',\n",
       " '__dict__',\n",
       " '__dir__',\n",
       " '__doc__',\n",
       " '__enter__',\n",
       " '__eq__',\n",
       " '__exit__',\n",
       " '__format__',\n",
       " '__ge__',\n",
       " '__getattribute__',\n",
       " '__getitem__',\n",
       " '__gt__',\n",
       " '__hash__',\n",
       " '__init__',\n",
       " '__init_subclass__',\n",
       " '__iter__',\n",
       " '__le__',\n",
       " '__len__',\n",
       " '__lt__',\n",
       " '__module__',\n",
       " '__ne__',\n",
       " '__new__',\n",
       " '__reduce__',\n",
       " '__reduce_ex__',\n",
       " '__repr__',\n",
       " '__reversed__',\n",
       " '__setattr__',\n",
       " '__setitem__',\n",
       " '__sizeof__',\n",
       " '__slots__',\n",
       " '__str__',\n",
       " '__subclasshook__',\n",
       " '__weakref__',\n",
       " '_abc_impl',\n",
       " '_chunkmode',\n",
       " '_chunks',\n",
       " '_data',\n",
       " '_dtype_str',\n",
       " '_empty_chunk',\n",
       " '_filecache',\n",
       " '_fillvalue',\n",
       " '_getitem',\n",
       " '_indices',\n",
       " '_is_writable',\n",
       " '_json',\n",
       " '_maxworkers',\n",
       " '_multiscales',\n",
       " '_ndindex',\n",
       " '_parse_key',\n",
       " '_setitem',\n",
       " '_squeeze',\n",
       " '_store',\n",
       " '_transform',\n",
       " '_value',\n",
       " '_writable',\n",
       " 'clear',\n",
       " 'close',\n",
       " 'flush',\n",
       " 'get',\n",
       " 'is_multiscales',\n",
       " 'items',\n",
       " 'keys',\n",
       " 'pop',\n",
       " 'popitem',\n",
       " 'setdefault',\n",
       " 'update',\n",
       " 'values',\n",
       " 'write_fsspec']"
      ]
     },
     "execution_count": 36,
     "metadata": {},
     "output_type": "execute_result"
    }
   ],
   "source": [
    "dir(store)"
   ]
  },
  {
   "cell_type": "code",
   "execution_count": 31,
   "metadata": {},
   "outputs": [
    {
     "data": {
      "text/plain": [
       "numpy.ndarray"
      ]
     },
     "execution_count": 31,
     "metadata": {},
     "output_type": "execute_result"
    }
   ],
   "source": [
    "type(region)"
   ]
  },
  {
   "cell_type": "code",
   "execution_count": 19,
   "metadata": {},
   "outputs": [
    {
     "data": {
      "text/plain": [
       "<tifffile.ZarrTiffStore @0x00007F689DC0FFA0>"
      ]
     },
     "execution_count": 19,
     "metadata": {},
     "output_type": "execute_result"
    }
   ],
   "source": [
    "store."
   ]
  },
  {
   "cell_type": "code",
   "execution_count": 18,
   "metadata": {},
   "outputs": [
    {
     "data": {
      "text/plain": [
       "zarr.hierarchy.Group"
      ]
     },
     "execution_count": 18,
     "metadata": {},
     "output_type": "execute_result"
    }
   ],
   "source": [
    "type(z)"
   ]
  },
  {
   "cell_type": "code",
   "execution_count": 20,
   "metadata": {},
   "outputs": [
    {
     "data": {
      "text/plain": [
       "['_MutableMapping__marker',\n",
       " '__abstractmethods__',\n",
       " '__class__',\n",
       " '__class_getitem__',\n",
       " '__contains__',\n",
       " '__delattr__',\n",
       " '__delitem__',\n",
       " '__dict__',\n",
       " '__dir__',\n",
       " '__doc__',\n",
       " '__enter__',\n",
       " '__eq__',\n",
       " '__exit__',\n",
       " '__format__',\n",
       " '__ge__',\n",
       " '__getattr__',\n",
       " '__getattribute__',\n",
       " '__getitem__',\n",
       " '__getstate__',\n",
       " '__gt__',\n",
       " '__hash__',\n",
       " '__init__',\n",
       " '__init_subclass__',\n",
       " '__iter__',\n",
       " '__le__',\n",
       " '__len__',\n",
       " '__lt__',\n",
       " '__module__',\n",
       " '__ne__',\n",
       " '__new__',\n",
       " '__reduce__',\n",
       " '__reduce_ex__',\n",
       " '__repr__',\n",
       " '__reversed__',\n",
       " '__setattr__',\n",
       " '__setitem__',\n",
       " '__setstate__',\n",
       " '__sizeof__',\n",
       " '__slots__',\n",
       " '__str__',\n",
       " '__subclasshook__',\n",
       " '__weakref__',\n",
       " '_abc_impl',\n",
       " '_array_iter',\n",
       " '_array_nosync',\n",
       " '_attrs',\n",
       " '_chunk_store',\n",
       " '_create_dataset_nosync',\n",
       " '_create_group_nosync',\n",
       " '_create_nosync',\n",
       " '_delitem_nosync',\n",
       " '_empty_like_nosync',\n",
       " '_empty_nosync',\n",
       " '_full_like_nosync',\n",
       " '_full_nosync',\n",
       " '_info',\n",
       " '_ipython_key_completions_',\n",
       " '_item_path',\n",
       " '_key_prefix',\n",
       " '_meta',\n",
       " '_meta_array',\n",
       " '_move_nosync',\n",
       " '_ones_like_nosync',\n",
       " '_ones_nosync',\n",
       " '_path',\n",
       " '_read_only',\n",
       " '_require_dataset_nosync',\n",
       " '_require_group_nosync',\n",
       " '_store',\n",
       " '_synchronizer',\n",
       " '_version',\n",
       " '_write_op',\n",
       " '_zeros_like_nosync',\n",
       " '_zeros_nosync',\n",
       " 'array',\n",
       " 'array_keys',\n",
       " 'arrays',\n",
       " 'attrs',\n",
       " 'basename',\n",
       " 'chunk_store',\n",
       " 'clear',\n",
       " 'create',\n",
       " 'create_dataset',\n",
       " 'create_group',\n",
       " 'create_groups',\n",
       " 'empty',\n",
       " 'empty_like',\n",
       " 'full',\n",
       " 'full_like',\n",
       " 'get',\n",
       " 'group_keys',\n",
       " 'groups',\n",
       " 'info',\n",
       " 'info_items',\n",
       " 'items',\n",
       " 'keys',\n",
       " 'meta_array',\n",
       " 'move',\n",
       " 'name',\n",
       " 'ones',\n",
       " 'ones_like',\n",
       " 'path',\n",
       " 'pop',\n",
       " 'popitem',\n",
       " 'read_only',\n",
       " 'require_dataset',\n",
       " 'require_group',\n",
       " 'require_groups',\n",
       " 'setdefault',\n",
       " 'store',\n",
       " 'synchronizer',\n",
       " 'tree',\n",
       " 'update',\n",
       " 'values',\n",
       " 'visit',\n",
       " 'visititems',\n",
       " 'visitkeys',\n",
       " 'visitvalues',\n",
       " 'zeros',\n",
       " 'zeros_like']"
      ]
     },
     "execution_count": 20,
     "metadata": {},
     "output_type": "execute_result"
    }
   ],
   "source": [
    "dir(z)"
   ]
  },
  {
   "cell_type": "code",
   "execution_count": 29,
   "metadata": {},
   "outputs": [
    {
     "data": {
      "text/plain": [
       "''"
      ]
     },
     "execution_count": 29,
     "metadata": {},
     "output_type": "execute_result"
    }
   ],
   "source": [
    "z.basename"
   ]
  },
  {
   "cell_type": "code",
   "execution_count": 27,
   "metadata": {},
   "outputs": [
    {
     "data": {
      "text/plain": [
       "array(5.e-324)"
      ]
     },
     "execution_count": 27,
     "metadata": {},
     "output_type": "execute_result"
    }
   ],
   "source": [
    "z.meta_array"
   ]
  },
  {
   "cell_type": "code",
   "execution_count": 27,
   "metadata": {},
   "outputs": [
    {
     "data": {
      "text/plain": [
       "(90599, 80376)"
      ]
     },
     "execution_count": 27,
     "metadata": {},
     "output_type": "execute_result"
    }
   ],
   "source": [
    "ts_img.dimensions"
   ]
  },
  {
   "cell_type": "code",
   "execution_count": 33,
   "metadata": {},
   "outputs": [
    {
     "data": {
      "text/plain": [
       "True"
      ]
     },
     "execution_count": 33,
     "metadata": {},
     "output_type": "execute_result"
    }
   ],
   "source": [
    "np.equal(np.asarray(hxw.read_region(level=0)), ts_arr).all()"
   ]
  },
  {
   "cell_type": "code",
   "execution_count": 31,
   "metadata": {},
   "outputs": [],
   "source": [
    "ts_img: TiffSlide = TiffSlide(base_path+\".svs\") # series arg needed?\n",
    "ts_arr = ts_img.read_region(level=0, location=(0,0), size= ts_img.dimensions,as_array=True)"
   ]
  },
  {
   "cell_type": "code",
   "execution_count": 30,
   "metadata": {},
   "outputs": [
    {
     "name": "stdout",
     "output_type": "stream",
     "text": [
      "7.816846609115601\n",
      "True\n",
      "3.394305467605591\n",
      "0.0020143985748291016\n"
     ]
    }
   ],
   "source": [
    "from tiffslide import TiffSlide\n",
    "start = time.time()\n",
    "ts_img: TiffSlide = TiffSlide(base_path+\"-Tissue.tif\") # series arg needed?\n",
    "ts_arr = ts_img.read_region(level=0, location=(0,0), size= ts_img.dimensions,as_array=True)\n",
    "print(time.time() - start)\n",
    "print(np.equal(np.expand_dims(gt_arr, axis=-1), ts_arr).all())\n",
    "\n",
    "start: float = time.time()\n",
    "ts_img_at_1: TiffSlide = TiffSlide(base_path+\"-Tissue.tif\") # series arg needed?\n",
    "ts_arr: np.ndarray = ts_img_at_1.read_region(level=1, location=(0,0), size= ts_img.dimensions,as_array=True)\n",
    "print(time.time() - start)\n",
    "\n",
    "\n",
    "start = time.time()\n",
    "region: np.ndarray  = ts_img.read_region((300, 400), 0, (512, 512), as_array=True)\n",
    "print(time.time() - start)\n"
   ]
  },
  {
   "cell_type": "code",
   "execution_count": null,
   "metadata": {},
   "outputs": [],
   "source": [
    "# NOTE: This is a bit confusing, check the other two first\n",
    "from opentile import OpenTile\n",
    "start = time.time()\n",
    "ot_img = OpenTile.open(base_path+\"-Tissue.tif\",  (512,512)) # series arg needed?\n",
    "ot_arr = ot_img.tile = ot_img.get_tile(0, (0, 0))\n",
    "ot_img.close()\n",
    "print(time.time() - start)\n",
    "\n",
    "print(np.equal(gt_arr, ot_arr).all())\n",
    "\n",
    "start = time.time()\n",
    "ot_img = OpenTile.open(base_path+\"-Tissue.tif\",  (512,512)) # series arg needed?\n",
    "ts_arr = ts_img_at_1.read_region((0,0), 0, (0,0), as_array=True)\n",
    "print(time.time() - start)\n",
    "\n",
    "\n",
    "start = time.time()\n",
    "region = ts_img.read_region((300, 400), 0, (512, 512), as_array=True)\n",
    "print(time.time() - start)\n"
   ]
  },
  {
   "attachments": {},
   "cell_type": "markdown",
   "metadata": {},
   "source": [
    "try with multiprocessing"
   ]
  },
  {
   "cell_type": "code",
   "execution_count": 2,
   "metadata": {},
   "outputs": [
    {
     "name": "stderr",
     "output_type": "stream",
     "text": [
      "DEBUG:numcodecs:Registering codec 'zlib'\n",
      "DEBUG:numcodecs:Registering codec 'gzip'\n",
      "DEBUG:numcodecs:Registering codec 'bz2'\n",
      "DEBUG:numcodecs:Registering codec 'lzma'\n",
      "DEBUG:numcodecs:Registering codec 'blosc'\n",
      "DEBUG:numcodecs:Registering codec 'zstd'\n",
      "DEBUG:numcodecs:Registering codec 'lz4'\n",
      "DEBUG:numcodecs:Registering codec 'astype'\n",
      "DEBUG:numcodecs:Registering codec 'delta'\n",
      "DEBUG:numcodecs:Registering codec 'quantize'\n",
      "DEBUG:numcodecs:Registering codec 'fixedscaleoffset'\n",
      "DEBUG:numcodecs:Registering codec 'packbits'\n",
      "DEBUG:numcodecs:Registering codec 'categorize'\n",
      "DEBUG:numcodecs:Registering codec 'pickle'\n",
      "DEBUG:numcodecs:Registering codec 'base64'\n",
      "DEBUG:numcodecs:Registering codec 'shuffle'\n",
      "DEBUG:numcodecs:Registering codec 'bitround'\n",
      "DEBUG:numcodecs:Registering codec 'msgpack2'\n",
      "DEBUG:numcodecs:Registering codec 'crc32'\n",
      "DEBUG:numcodecs:Registering codec 'adler32'\n",
      "DEBUG:numcodecs:Registering codec 'json2'\n",
      "DEBUG:numcodecs:Registering codec 'vlen-utf8'\n",
      "DEBUG:numcodecs:Registering codec 'vlen-bytes'\n",
      "DEBUG:numcodecs:Registering codec 'vlen-array'\n",
      "DEBUG:numcodecs:Registering codec 'n5_wrapper'\n"
     ]
    },
    {
     "name": "stdout",
     "output_type": "stream",
     "text": [
      "[(512, 512), (512, 512), (512, 512), (512, 512), (512, 512), (512, 512), (512, 512), (512, 512), (512, 512), (512, 512)]\n",
      "0.3256664276123047\n"
     ]
    }
   ],
   "source": [
    "import tifffile\n",
    "import zarr\n",
    "from tiffslide import TiffSlide\n",
    "\n",
    "def r_tf(path: str)-> np.ndarray:\n",
    "\n",
    "    tf_img = tifffile.imread(path,  series=0, level=0) # series arg needed?\n",
    "    return tf_img\n",
    "\n",
    "def tile_tf(path:str)-> np.ndarray:\n",
    "    store = tifffile.imread(path, aszarr=True) \n",
    "    z = zarr.open(store, mode='r')\n",
    "\n",
    "    location = (300, 400)\n",
    "    size = (512,512)\n",
    "\n",
    "    region= z[0][location[0]:location[0] + size[0], location[1]:location[1] + size[1]] # I think we need to remove the 2\n",
    "\n",
    "    store.close()\n",
    "\n",
    "    return region\n",
    "\n",
    "def r_ts(path: str):\n",
    "\n",
    "    ts_img: TiffSlide = TiffSlide(path) # series arg needed?\n",
    "    ts_arr = ts_img.read_region(level=0, location=(0,0), size= ts_img.dimensions,as_array=True)\n",
    "\n",
    "    return ts_arr\n",
    "\n",
    "def tile_ts(path: str):\n",
    "\n",
    "    ts_img: TiffSlide = TiffSlide(path) # series arg needed?\n",
    "    ts_arr = ts_img.read_region(level=0, location=(300, 400), size= (512,512),as_array=True)\n",
    "\n",
    "    return ts_arr\n",
    "\n",
    "import multiprocessing as mp\n",
    "from multiprocessing import Pool\n",
    "from glob import glob\n",
    "import os\n",
    "\n",
    "with Pool(5) as p:\n",
    "    start = time.time()\n",
    "    print([i.shape for i in p.map(tile_tf,\n",
    "        glob(os.path.join(os.path.dirname(base_path), \"*.tif\"))[:10]\n",
    "    )])\n",
    "    print(time.time() - start)\n",
    "with Pool(5) as p:\n",
    "\n",
    "    start = time.time()\n",
    "    print([i.shape for i in p.map(r_tf,\n",
    "        glob(os.path.join(os.path.dirname(base_path), \"*.tif\"))[:10]\n",
    "    )])\n",
    "    print(time.time() - start)\n",
    "\n",
    "with Pool(5) as p:\n",
    "    start = time.time()\n",
    "\n",
    "    print([i.shape for i in p.map(tile_ts,\n",
    "        glob(os.path.join(os.path.dirname(base_path), \"*.tif\"))[:10]\n",
    "    )])\n",
    "    print(time.time() - start)\n",
    "\n",
    "with Pool(5) as p:\n",
    "    start = time.time()\n",
    "    print([i.shape for i in p.map(r_ts,\n",
    "        glob(os.path.join(os.path.dirname(base_path), \"*.tif\"))[:10]\n",
    "    )])\n",
    "    print(time.time() - start)\n"
   ]
  },
  {
   "cell_type": "code",
   "execution_count": 2,
   "metadata": {},
   "outputs": [
    {
     "name": "stderr",
     "output_type": "stream",
     "text": [
      "DEBUG:rasterio.env:Entering env context: <rasterio.env.Env object at 0x7fc8fdd72ef0>\n",
      "DEBUG:rasterio.env:Starting outermost env\n",
      "DEBUG:rasterio.env:No GDAL environment exists\n",
      "DEBUG:rasterio.env:New GDAL environment <rasterio._env.GDALEnv object at 0x7fc8fdd72680> created\n",
      "DEBUG:rasterio._filepath:Installing FilePath filesystem handler plugin...\n",
      "DEBUG:rasterio._env:GDAL_DATA found in environment.\n",
      "DEBUG:rasterio._env:PROJ_DATA found in environment.\n",
      "DEBUG:rasterio._env:Started GDALEnv: self=<rasterio._env.GDALEnv object at 0x7fc8fdd72680>.\n",
      "DEBUG:rasterio.env:Entered env context: <rasterio.env.Env object at 0x7fc8fdd72ef0>\n",
      "DEBUG:rasterio._base:Sharing flag: 0\n",
      "/home/sklein/mambaforge/envs/sklein/lib/python3.10/site-packages/rasterio/__init__.py:304: NotGeoreferencedWarning: Dataset has no geotransform, gcps, or rpcs. The identity matrix will be returned.\n",
      "  dataset = DatasetReader(path, driver=driver, sharing=sharing, **kwargs)\n",
      "DEBUG:rasterio._base:Nodata success: 0, Nodata value: 0.000000\n",
      "DEBUG:rasterio._base:Dataset <open DatasetReader name='/data2/projects/DigiStrudMed_sklein/DigiStrucMed_Braesen/all_data/RCC-TA-038.016flipped-Tissue.tif' mode='r'> is started.\n",
      "DEBUG:rasterio.env:Exiting env context: <rasterio.env.Env object at 0x7fc8fdd72ef0>\n",
      "DEBUG:rasterio.env:Cleared existing <rasterio._env.GDALEnv object at 0x7fc8fdd72680> options\n",
      "DEBUG:rasterio._env:Stopped GDALEnv <rasterio._env.GDALEnv object at 0x7fc8fdd72680>.\n",
      "DEBUG:rasterio.env:Exiting outermost env\n",
      "DEBUG:rasterio.env:Exited env context: <rasterio.env.Env object at 0x7fc8fdd72ef0>\n",
      "DEBUG:rasterio.env:Entering env context: <rasterio.env.Env object at 0x7fc8fdd37bb0>\n",
      "DEBUG:rasterio.env:Starting outermost env\n",
      "DEBUG:rasterio.env:No GDAL environment exists\n",
      "DEBUG:rasterio.env:New GDAL environment <rasterio._env.GDALEnv object at 0x7fc8fdd737f0> created\n",
      "DEBUG:rasterio._env:GDAL_DATA found in environment.\n",
      "DEBUG:rasterio._env:PROJ_DATA found in environment.\n",
      "DEBUG:rasterio._env:Started GDALEnv: self=<rasterio._env.GDALEnv object at 0x7fc8fdd737f0>.\n",
      "DEBUG:rasterio.env:Entered env context: <rasterio.env.Env object at 0x7fc8fdd37bb0>\n",
      "DEBUG:rasterio._io:Output nodata value read from file: None\n",
      "DEBUG:rasterio._io:Output nodata values: [None]\n",
      "DEBUG:rasterio._io:all_valid: True\n",
      "DEBUG:rasterio._io:mask_flags: ([<MaskFlags.all_valid: 1>],)\n",
      "DEBUG:rasterio._io:Jump straight to _read()\n",
      "DEBUG:rasterio._io:Window: Window(col_off=0, row_off=0, width=512, height=512)\n",
      "DEBUG:rasterio._io:IO window xoff=0.0 yoff=0.0 width=512.0 height=512.0\n",
      "DEBUG:rasterio.env:Exiting env context: <rasterio.env.Env object at 0x7fc8fdd37bb0>\n",
      "DEBUG:rasterio.env:Cleared existing <rasterio._env.GDALEnv object at 0x7fc8fdd737f0> options\n",
      "DEBUG:rasterio._env:Stopped GDALEnv <rasterio._env.GDALEnv object at 0x7fc8fdd737f0>.\n",
      "DEBUG:rasterio.env:Exiting outermost env\n",
      "DEBUG:rasterio.env:Exited env context: <rasterio.env.Env object at 0x7fc8fdd37bb0>\n"
     ]
    }
   ],
   "source": [
    "import rasterio\n",
    "from rasterio.windows import Window\n",
    "\n",
    "with rasterio.open(base_path+'-Tissue.tif') as src:\n",
    "\n",
    "    w = src.read(1, window=Window(0, 0, 512, 512))"
   ]
  },
  {
   "cell_type": "code",
   "execution_count": 3,
   "metadata": {},
   "outputs": [
    {
     "data": {
      "text/plain": [
       "array([[0, 0, 0, ..., 0, 0, 0],\n",
       "       [0, 0, 0, ..., 0, 0, 0],\n",
       "       [0, 0, 0, ..., 0, 0, 0],\n",
       "       ...,\n",
       "       [0, 0, 0, ..., 0, 0, 0],\n",
       "       [0, 0, 0, ..., 0, 0, 0],\n",
       "       [0, 0, 0, ..., 0, 0, 0]], dtype=uint8)"
      ]
     },
     "execution_count": 3,
     "metadata": {},
     "output_type": "execute_result"
    }
   ],
   "source": [
    "w"
   ]
  }
 ],
 "metadata": {
  "kernelspec": {
   "display_name": "sklein",
   "language": "python",
   "name": "python3"
  },
  "language_info": {
   "codemirror_mode": {
    "name": "ipython",
    "version": 3
   },
   "file_extension": ".py",
   "mimetype": "text/x-python",
   "name": "python",
   "nbconvert_exporter": "python",
   "pygments_lexer": "ipython3",
   "version": "3.10.9"
  },
  "orig_nbformat": 4,
  "vscode": {
   "interpreter": {
    "hash": "bd82e480e8e1d07bdfbce7a9b97370326bb7fae990e2adbc47bf3a99d9bf2f4a"
   }
  }
 },
 "nbformat": 4,
 "nbformat_minor": 2
}
